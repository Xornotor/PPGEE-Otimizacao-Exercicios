{
 "cells": [
  {
   "cell_type": "markdown",
   "metadata": {},
   "source": [
    "<a target=\"_blank\" href=\"https://colab.research.google.com/github/Xornotor/PPGEE-Otimizacao-Exercicios/blob/main/Lista-01-A/Q2.ipynb\">\n",
    "  <img src=\"https://colab.research.google.com/assets/colab-badge.svg\" alt=\"Open In Colab\"/>\n",
    "</a>"
   ]
  },
  {
   "cell_type": "markdown",
   "metadata": {},
   "source": [
    "# **Lista de Exercícios 01-A | Questão 2**\n",
    "\n",
    "**UFBA** | PPGEE0016 - Otimização\n",
    "\n",
    "**Aluno:** André Paiva Conrado Rodrigues"
   ]
  },
  {
   "cell_type": "code",
   "execution_count": 28,
   "metadata": {},
   "outputs": [],
   "source": [
    "# Importação de dependências\n",
    "import numpy as np\n",
    "import matplotlib.pyplot as plt\n",
    "import plotly.graph_objects as go\n",
    "from scipy.optimize import minimize, NonlinearConstraint"
   ]
  },
  {
   "cell_type": "markdown",
   "metadata": {},
   "source": [
    "## **1. Problema de Otimização**\n",
    "\n",
    "\\begin{equation*}\n",
    "\\begin{aligned}\n",
    "\\text{Minimizar} \\\\\n",
    "&& f(\\boldsymbol{x}) = x_{1}^{2} - 4x_{1} + x_{2} + 4 \\\\\n",
    "\\text{Sujeito a} \\\\\n",
    "c_{1}: && -2x_{1} - 3x_{2} + 12 \\geq 0 \\\\\n",
    "c_{2}: && 1 - \\frac{(x_{1} - 6)^{2}}{4} - \\frac{x_{2}^{2}}{9} \\geq 0 \\\\\n",
    "\\end{aligned}\n",
    "\\end{equation*}"
   ]
  },
  {
   "cell_type": "markdown",
   "metadata": {},
   "source": [
    "## **2. Estimativa manual**"
   ]
  },
  {
   "cell_type": "markdown",
   "metadata": {},
   "source": [
    "**Trabalhando na primeira restrição:**\n",
    "\\begin{equation*}\n",
    "\\begin{aligned}\n",
    "-2x_{1} - 3x_{2} + 12 \\geq 0 \\\\\n",
    "2x_{1} \\leq 12 - 3x_{2} \\\\\n",
    "x_{1} \\leq 6 - \\frac{3x_{2}}{2} \\\\\n",
    "\\text{Limite abaixo de uma reta}\n",
    "\\end{aligned}\n",
    "\\end{equation*}"
   ]
  },
  {
   "cell_type": "code",
   "execution_count": 29,
   "metadata": {},
   "outputs": [],
   "source": [
    "# Restrição C1\n",
    "c1_x2 = np.linspace(-5, 5, 2)\n",
    "c1_x1 = 6 - (3.0*c1_x2/2.0)"
   ]
  },
  {
   "cell_type": "markdown",
   "metadata": {},
   "source": [
    "**Trabalhando na segunda restrição:**\n",
    "\\begin{equation*}\n",
    "\\begin{aligned}\n",
    "1 - \\frac{(x_{1} - 6)^{2}}{4} - \\frac{x_{2}^{2}}{9} \\geq 0 \\\\\n",
    "\\frac{(x_{1} - 6)^{2}}{4} + \\frac{x_{2}^{2}}{9} \\leq 1 \\\\\n",
    "\\text{Elipse com centro em } (6, 0)\n",
    "\\end{aligned}\n",
    "\\end{equation*}"
   ]
  },
  {
   "cell_type": "code",
   "execution_count": 30,
   "metadata": {},
   "outputs": [],
   "source": [
    "# Restrição C2\n",
    "c2_x1 = (2*np.sin(np.linspace(0, 2*np.pi, 180))) + 6\n",
    "c2_x2 = (3*np.cos(np.linspace(0, 2*np.pi, 180)))"
   ]
  },
  {
   "cell_type": "markdown",
   "metadata": {},
   "source": [
    "**Visualizando a região de restrição graficamente:**"
   ]
  },
  {
   "cell_type": "code",
   "execution_count": null,
   "metadata": {},
   "outputs": [],
   "source": [
    "plt.plot(c1_x1, c1_x2, alpha=0.4)\n",
    "plt.plot(c2_x1, c2_x2, alpha=0.4)\n",
    "plt.text(5, -1.7, \"Aqui!\", fontsize=30, color='green')\n",
    "plt.fill_between(c1_x1, c1_x2, -4, alpha=0.7)\n",
    "plt.fill_between(c2_x1, c2_x2, alpha=0.4)\n",
    "plt.xlabel(\"x1\")\n",
    "plt.ylabel(\"x2\")\n",
    "plt.axis('equal')\n",
    "plt.xlim([3.5, 8.5])\n",
    "plt.ylim([-3.5, 3.5])\n",
    "plt.title(\"Figura 1: Região de restrições do problema\")\n",
    "plt.show()"
   ]
  },
  {
   "cell_type": "markdown",
   "metadata": {},
   "source": [
    "**Plotando a função objetivo:**"
   ]
  },
  {
   "cell_type": "code",
   "execution_count": null,
   "metadata": {},
   "outputs": [],
   "source": [
    "x1 = np.array([np.linspace(-3, 7, 100) for _ in range(100)])\n",
    "x2 = np.array([np.linspace(-10, 10, 100) for _ in range(100)]).T\n",
    "z = (x1**2) - (4*x1) + x2 + 4\n",
    "\n",
    "fig = plt.figure()\n",
    "\n",
    "ax = plt.axes(projection='3d')\n",
    "\n",
    "ax.plot_surface(x1, x2, z)\n",
    "ax.set_title(\"Figura 2: Gráfico da Função objetivo\")\n",
    "ax.set_xlabel('x1', fontsize=12)\n",
    "ax.set_ylabel('x2', fontsize=12)\n",
    "plt.show()"
   ]
  },
  {
   "cell_type": "markdown",
   "metadata": {},
   "source": [
    "**Derivada parcial da função objetivo em relação a $x_{1}$:**\n",
    "\n",
    "\\begin{equation*}\n",
    "\\begin{aligned}\n",
    "\\frac{\\partial f(\\boldsymbol{x})}{\\partial x_{1}} = 2x_{1} - 4 \\\\\n",
    "2x_{1} - 4 = 0 \\implies x_{1} = 2\n",
    "\\end{aligned}\n",
    "\\end{equation*}"
   ]
  },
  {
   "cell_type": "markdown",
   "metadata": {},
   "source": [
    "**Derivada parcial da função objetivo em relação a $x_{2}$:**\n",
    "\n",
    "\\begin{equation*}\n",
    "\\begin{aligned}\n",
    "\\frac{\\partial f(\\boldsymbol{x})}{\\partial x_{2}} = 1 \\neq 0\n",
    "\\end{aligned}\n",
    "\\end{equation*}"
   ]
  },
  {
   "cell_type": "markdown",
   "metadata": {},
   "source": [
    "**Conclusões em relação ao ponto ótimo:**\n",
    "\n",
    "Em relação a $x_{1}$, a função chega a seu mínimo quando $x_{1} = 2$.\n",
    "\n",
    "Em relação a $x_{2}$, desconsiderando restrições, não há um ponto de mínimo: o que se vê é a contribuição de $x_{2}$ para o valor de $f(\\boldsymbol{x})$ em um comportamento análogo a uma reta crescente, que vai desde $-\\inf$ até $+\\inf$; isto é, caso seja escolhido um valor constante para $x_{1}$, ao excursionar o valor de $x_{2}$, o comportamento de $f(\\boldsymbol{x})$ será uma reta crescente.\n",
    "\n",
    "Por conta da condição de $x_{2}$, a conclusão é de que não há ponto ótimo global."
   ]
  },
  {
   "cell_type": "markdown",
   "metadata": {},
   "source": [
    "**Restrições e limitações**\n",
    "\n",
    "Como $x_{2}$ contribui para o valor de $f(\\boldsymbol{x})$ com um comportamento análogo a uma reta crescente, para minimizar o valor de $f(\\boldsymbol{x})$ dentro das restrições, devemos escolher o menor valor possível de $x_{2}$.\n",
    "\n",
    "$x_{1}$ não pode ser igual a $2$, pois o plano $(2, x_{2}, f(\\boldsymbol{x}))$ não se encontra na região de restrição, como visto na figura abaixo."
   ]
  },
  {
   "cell_type": "code",
   "execution_count": null,
   "metadata": {},
   "outputs": [],
   "source": [
    "plt.plot(c1_x1, c1_x2, alpha=0.4)\n",
    "plt.plot(c2_x1, c2_x2, alpha=0.4)\n",
    "plt.fill_between(c1_x1, c1_x2, -4, alpha=0.7)\n",
    "plt.fill_between(c2_x1, c2_x2, alpha=0.4)\n",
    "plt.xlabel(\"x1\")\n",
    "plt.ylabel(\"x2\")\n",
    "plt.axis('equal')\n",
    "plt.xlim([3.5, 8.5])\n",
    "plt.ylim([-3.5, 3.5])\n",
    "plt.plot([2, 2], [-4, 4], color='red', linestyle='dashed')\n",
    "plt.title(\"Figura 3: X1 = 2 fora da região de restrição\")\n",
    "plt.show()"
   ]
  },
  {
   "cell_type": "code",
   "execution_count": null,
   "metadata": {},
   "outputs": [],
   "source": [
    "x1 = np.array([np.linspace(3, 9, 100) for _ in range(100)])\n",
    "x2 = np.array([np.linspace(-4, 4, 100) for _ in range(100)]).T\n",
    "z = (x1**2) - (4*x1) + x2 + 4\n",
    "\n",
    "c1_x1_sur = np.array([np.linspace(c1_x1[0], c1_x1[1], 100) for _ in range(100)])\n",
    "c1_x2_sur = np.array([np.linspace(c1_x2[0], c1_x2[1], 100) for _ in range(100)])\n",
    "c1_z = np.array([np.linspace(0, 40, 100) for _ in range (100)]).T\n",
    "\n",
    "cyl_theta = np.linspace(0, 2*np.pi, 100)\n",
    "cyl_z = np.linspace(0, 40, 100)\n",
    "cyl_theta, cyl_z = np.meshgrid(cyl_theta, cyl_z)\n",
    "cyl_x1 = 2 * np.cos(cyl_theta) + 6\n",
    "cyl_x2 = 3 * np.sin(cyl_theta)\n",
    "\n",
    "fig = go.Figure(data=[go.Surface(x=x1, y=x2, z=z, opacity=0.7, showscale=False, colorscale=\"Viridis\"),\n",
    "                      go.Surface(x=cyl_x1, y=cyl_x2, z=cyl_z, opacity=0.7, showscale=False, colorscale=\"gray\"),\n",
    "                      go.Surface(x=c1_x1_sur, y=c1_x2_sur, z=c1_z, showscale=False, colorscale=\"gray\")])\n",
    "                \n",
    "fig.update_layout(title='Figura 4: Função objetivo e regiões de restrição',\n",
    "                  margin=dict(l=25, r=20, b=25, t=60),\n",
    "                  scene = dict(xaxis_title='x1', yaxis_title='x2', zaxis_title='f(x)'))\n",
    "fig.show()"
   ]
  },
  {
   "cell_type": "markdown",
   "metadata": {},
   "source": [
    "Com base na Figura 4, estima-se que o ponto mínimo restrito esteja localizado em algum lugar do arco realçado na Figura 5."
   ]
  },
  {
   "cell_type": "code",
   "execution_count": null,
   "metadata": {},
   "outputs": [],
   "source": [
    "plt.plot(c1_x1, c1_x2, alpha=0.4)\n",
    "plt.plot(c2_x1, c2_x2, alpha=0.4)\n",
    "plt.fill_between(c1_x1, c1_x2, -4, alpha=0.7)\n",
    "plt.fill_between(c2_x1, c2_x2, alpha=0.4)\n",
    "plt.plot(c2_x1[105:135], c2_x2[105:135], color='red')\n",
    "plt.xlabel(\"x1\")\n",
    "plt.ylabel(\"x2\")\n",
    "plt.axis('equal')\n",
    "plt.xlim([3.5, 8.5])\n",
    "plt.ylim([-3.5, 3.5])\n",
    "plt.title(\"Figura 5: Possível região do ponto mínimo restrito\")\n",
    "plt.show()"
   ]
  },
  {
   "cell_type": "markdown",
   "metadata": {},
   "source": [
    "## **3. Solução por algoritmo**"
   ]
  },
  {
   "cell_type": "code",
   "execution_count": null,
   "metadata": {},
   "outputs": [],
   "source": [
    "# Função objetivo e funções de restrição\n",
    "obj = lambda x: (x[0]**2) - (4*x[0]) + x[1] + 4\n",
    "c1_fun = lambda x: -(2*x[0]) - (3*x[1]) + 12\n",
    "c2_fun = lambda x: 1 - (((x[0]-6)**2)/4) - ((x[1]**2)/9)\n",
    "\n",
    "# Restrições\n",
    "cons = [\n",
    "        NonlinearConstraint(c1_fun, 0, np.inf),\n",
    "        NonlinearConstraint(c2_fun, 0, np.inf)\n",
    "       ]\n",
    "\n",
    "#Otimização\n",
    "res = minimize(obj, (0, 0), method='COBYQA', constraints=cons)\n",
    "res"
   ]
  },
  {
   "cell_type": "markdown",
   "metadata": {},
   "source": [
    "Por meio da otimização por algoritmo, foi encontrado o ponto $(4.115; -1.003)$, que leva a função ao valor aproximado de $3.47$. O ponto encontrado se localiza dentro da região estimada para o ponto de mínimo pelo cálculo manual, como é possível ver no gráfico abaixo."
   ]
  },
  {
   "cell_type": "code",
   "execution_count": null,
   "metadata": {},
   "outputs": [],
   "source": [
    "plt.plot(c1_x1, c1_x2, alpha=0.4)\n",
    "plt.plot(c2_x1, c2_x2, alpha=0.4)\n",
    "plt.fill_between(c1_x1, c1_x2, -4, alpha=0.7)\n",
    "plt.fill_between(c2_x1, c2_x2, alpha=0.4)\n",
    "plt.plot(c2_x1[105:135], c2_x2[105:135], color='red', label='Estimação manual')\n",
    "plt.scatter(res.x[0], res.x[1], color='purple', zorder=2.5, label='Algoritmo')\n",
    "plt.xlabel(\"x1\")\n",
    "plt.ylabel(\"x2\")\n",
    "plt.axis('equal')\n",
    "plt.xlim([3.5, 8.5])\n",
    "plt.ylim([-3.5, 3.5])\n",
    "plt.legend()\n",
    "plt.title(\"Figura 6: Solução algorítmica vs. Região estimada\")\n",
    "plt.show()"
   ]
  },
  {
   "cell_type": "markdown",
   "metadata": {},
   "source": [
    "Para verificar a validade da solução algorítmica, vamos analisar se os valores encontrados para $x_1$ e $x_2$ atendem às restrições."
   ]
  },
  {
   "cell_type": "code",
   "execution_count": null,
   "metadata": {},
   "outputs": [],
   "source": [
    "c1_fun(res.x)"
   ]
  },
  {
   "cell_type": "markdown",
   "metadata": {},
   "source": [
    "A restrição 1 parece ter sido obedecida."
   ]
  },
  {
   "cell_type": "code",
   "execution_count": null,
   "metadata": {},
   "outputs": [],
   "source": [
    "c2_fun(res.x)"
   ]
  },
  {
   "cell_type": "markdown",
   "metadata": {},
   "source": [
    "A restrição 2 parece não ser seguida à risca. $c_2$ foi definida de tal modo que $c_{2} \\geq 0$, o que não ocorre por um pequeno desvio de $-5.64 \\times 10^{-10}$. Tal desvio pode ter ocorrido por questões de precisão numérica e imprecisões de cálculos decorrentes de limitações relacionadas à representação numérica nos computadores.\n"
   ]
  }
 ],
 "metadata": {
  "kernelspec": {
   "display_name": "base",
   "language": "python",
   "name": "python3"
  },
  "language_info": {
   "codemirror_mode": {
    "name": "ipython",
    "version": 3
   },
   "file_extension": ".py",
   "mimetype": "text/x-python",
   "name": "python",
   "nbconvert_exporter": "python",
   "pygments_lexer": "ipython3",
   "version": "3.12.2"
  }
 },
 "nbformat": 4,
 "nbformat_minor": 2
}
