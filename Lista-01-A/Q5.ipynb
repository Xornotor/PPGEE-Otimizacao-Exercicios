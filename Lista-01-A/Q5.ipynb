{
  "cells": [
    {
      "cell_type": "markdown",
      "metadata": {
        "id": "W1jDBa-h43Jq"
      },
      "source": [
        "<a target=\"_blank\" href=\"https://colab.research.google.com/github/Xornotor/PPGEE-Otimizacao-Exercicios/blob/main/Lista-01-A/Q5.ipynb\">\n",
        "  <img src=\"https://colab.research.google.com/assets/colab-badge.svg\" alt=\"Open In Colab\"/>\n",
        "</a>"
      ]
    },
    {
      "cell_type": "markdown",
      "metadata": {
        "id": "9DEG6_BM43Jr"
      },
      "source": [
        "# **Lista de Exercícios 01-A | Questão 5**\n",
        "\n",
        "**UFBA** | PPGEE0016 - Otimização\n",
        "\n",
        "**Aluno:** André Paiva Conrado Rodrigues"
      ]
    },
    {
      "cell_type": "code",
      "execution_count": 1,
      "metadata": {
        "id": "B1sqGz4J43Js"
      },
      "outputs": [],
      "source": [
        "# Importação de dependências e configurações de pretty-printing\n",
        "import numpy as np\n",
        "import pandas as pd\n",
        "from scipy.optimize import linprog\n",
        "np.set_printoptions(precision=3, suppress=True, linewidth=300)"
      ]
    },
    {
      "cell_type": "markdown",
      "metadata": {
        "id": "PYIkRNSm43Js"
      },
      "source": [
        "## **1 - Interpretação do Problema**"
      ]
    },
    {
      "cell_type": "markdown",
      "metadata": {},
      "source": [
        "### 1.1 - Definição de variáveis\n",
        "\n",
        "Para a interpretação do problema, consideremos os coeficientes $x_{ij}$ que representam a quantidade de Gasolina Bruta $j$ utilizada para produzir o Combustível $i$, com $i \\in \\{1, 2, 3\\}$ e $j \\in \\{1, 2, 3, 4\\}$.\n",
        "\n",
        "Consideremos ainda os coeficientes $y_j$ para representar a quantidade de Gasolina Bruta $j$ a ser vendida.\n",
        "\n",
        "Tendo isso, nós obtemos 16 variáveis para o problema."
      ]
    },
    {
      "cell_type": "markdown",
      "metadata": {},
      "source": [
        "### 1.2 - Definição da Função Objetivo\n",
        "\n",
        "A função objetivo busca maximizar o lucro em cima das vendas dos combustíveis produzidos e da quantidade sobressalente de gasolinas brutas.\n",
        "\n",
        "Podemos definir o lucro em virtude da quantidade de gasolina bruta utilizada para produzir determinado combustível.\n",
        "\n",
        "Considerando $c_j$ e $v_j$ respectivamente como os preços de compra e venda da Gasolina Bruta $j$, e $v_i$ o preço de venda do Combustível $i$, temos a função objetivo definida da seguinte forma:\n",
        "\n",
        "$$Z = \\sum_{j} y_j \\cdot (v_j - c_j) +  \\sum_{i} \\sum_{j} x_{ij} \\cdot (v_i - c_j)$$\n",
        "\n",
        "Destrinchando em valores, temos:\n",
        "\n",
        "\n",
        "\n",
        "\\begin{equation*}\n",
        "\\begin{aligned}\n",
        "Z = && y_1 \\cdot (1.85 - 1.02) && + && y_2 \\cdot (1.85 - 1.15) && + && y_3 \\cdot (2.95 - 1.35) && + && y_4 \\cdot (2.95 - 2.75) && + && \\\\\n",
        "&& x_{11} \\cdot (5.15 - 1.02) && + && x_{12} \\cdot (5.15 - 1.15) && + && x_{13} \\cdot (5.15 - 1.35) && + && x_{14} \\cdot (5.15 - 2.75) && + && \\\\\n",
        "&& x_{21} \\cdot (3.95 - 1.02) && + && x_{22} \\cdot (3.95 - 1.15) && + && x_{23} \\cdot (3.95 - 1.35) && + && x_{24} \\cdot (3.95 - 2.75) && + && \\\\\n",
        "&& x_{31} \\cdot (2.99 - 1.02) && + && x_{32} \\cdot (2.99 - 1.15) && + && x_{33} \\cdot (2.99 - 1.35) && + && x_{34} \\cdot (2.99 - 2.75) && &&\n",
        "\\end{aligned}\n",
        "\\end{equation*}\n",
        "\n",
        "Calculando as diferenças de preço entre compra e venda, obtemos:\n",
        "\n",
        "\\begin{equation*}\n",
        "\\begin{aligned}\n",
        "Z = && 0.83y_1 + 0.7y_2 + 1.6y_3 + 0.2y_4 + 4.13x_{11} + 4x_{12} + 3.8x_{13} + 2.4x_{14} + \\\\\n",
        "&& 2.93x_{21} + 2.8x_{22} + 2.6x_{23} + 1.2x_{24} + 1.97x_{31} + 1.84x_{32} + 1.64x_{33} + 0.24x_{34}\n",
        "\\end{aligned}\n",
        "\\end{equation*}"
      ]
    },
    {
      "cell_type": "markdown",
      "metadata": {},
      "source": [
        "### 1.3 - Definição das restrições\n",
        "\n",
        "#### *1.3.1 - Quantidade de gasolina bruta*\n",
        "\n",
        "Cada tipo de Gasolina Bruta tem uma disponibilidade $d_j$, de modo que possuímos o seguinte tipo de restrição:\n",
        "\n",
        "$$y_j + \\sum_{i=1}^{3} x_{ij} = d_j, \\quad j \\in \\{ 1, 2, 3, 4 \\}$$\n",
        "\n",
        "Com isso, temos as seguintes restrições:\n",
        "\n",
        "$$y_1 + x_{11} + x_{21} + x_{31} = 4000$$\n",
        "$$y_2 + x_{12} + x_{22} + x_{32} = 5050$$\n",
        "$$y_3 + x_{13} + x_{23} + x_{33} = 7100$$\n",
        "$$y_4 + x_{14} + x_{24} + x_{34} = 4300$$\n",
        "\n",
        "#### *1.3.2 - Octanagem*\n",
        "\n",
        "Para a produção de combustível, devem ser atendidos os requisitos mínimos de octanagem por meio da mistura das gasolinas brutas disponíveis. Logo, temos o primeiro tipo de restrição: a **octanagem mínima**.\n",
        "\n",
        "Para obter a octanagem mínima para cada combustível, considerando $o_i$ a octanagem mínima requerida para o Combustível $i$ e $o_j$ a octanagem da Gasolina Bruta $j$, precisamos do seguinte tipo de restrição:\n",
        "\n",
        "$$\\frac{\\sum_{j} o_j \\cdot x_{ij}}{\\sum_{j} x_{ij}} \\geq o_i, \\quad i \\in \\{ 1, 2, 3 \\}$$\n",
        "\n",
        "Com isso, nós temos as seguintes restrições:\n",
        "\n",
        "$$\\frac{68x_{11} + 86x_{12} + 91x_{13} + 99x_{14}}{x_{11} + x_{12} + x_{13} + x_{14}} \\geq 95 \\implies -27x_{11} - 9x_{12} -4x_{13} + 4x_{14} \\geq 0$$\n",
        "\n",
        "$$\\frac{68x_{21} + 86x_{22} + 91x_{23} + 99x_{24}}{x_{21} + x_{22} + x_{23} + x_{24}} \\geq 90 \\implies -22x_{21} - 4x_{22} + x_{23} + 9x_{24} \\geq 0$$\n",
        "\n",
        "$$\\frac{68x_{31} + 86x_{32} + 91x_{33} + 99x_{34}}{x_{31} + x_{32} + x_{33} + x_{34}} \\geq 85 \\implies -17x_{31} + x_{32} + 6x_{33} + 14x_{34} \\geq 0$$\n",
        "\n",
        "#### *1.3.3 - Demanda de combustível*\n",
        "\n",
        "Os Combustíveis 1 e 3 possuem demandas explicitamente denotadas, as quais definem que a produção deve ser dimensionada para atender tais demandas. Com isso, temos duas restrições:\n",
        "\n",
        "$$x_{11} + x_{12} + x_{13} + x_{14} \\leq 10000$$\n",
        "$$x_{31} + x_{32} + x_{33} + x_{34} \\geq 15000$$\n"
      ]
    },
    {
      "cell_type": "markdown",
      "metadata": {},
      "source": [
        "## **2 - Definição do problema de otimização**"
      ]
    },
    {
      "cell_type": "markdown",
      "metadata": {},
      "source": [
        "\\begin{equation*}\n",
        "\\begin{aligned}\n",
        "\\text{Maximizar} \\\\\n",
        "&& Z = 0.83y_1 + 0.7y_2 + 1.6y_3 + 0.2y_4 + 4.13x_{11} + 4x_{12} + 3.8x_{13} + 2.4x_{14} + \\\\\n",
        "&& 2.93x_{21} + 2.8x_{22} + 2.6x_{23} + 1.2x_{24} + 1.97x_{31} + 1.84x_{32} + 1.64x_{33} + 0.24x_{34} \\\\\n",
        "\\text{Sujeito a} \\\\\n",
        "r_{1}: && y_1 + x_{11} + x_{21} + x_{31} = 4000 \\\\\n",
        "r_{2}: && y_2 + x_{12} + x_{22} + x_{32} = 5050 \\\\\n",
        "r_{3}: && y_3 + x_{13} + x_{23} + x_{33} = 7100 \\\\\n",
        "r_{4}: && y_4 + x_{14} + x_{24} + x_{34} = 4300 \\\\\n",
        "r_{5}: && -27x_{11} - 9x_{12} -4x_{13} + 4x_{14} \\geq 0 \\\\\n",
        "r_{6}: && -22x_{21} - 4x_{22} + x_{23} + 9x_{24} \\geq 0 \\\\\n",
        "r_{7}: && -17x_{31} + x_{32} + 6x_{33} + 14x_{34} \\geq 0 \\\\\n",
        "r_{8}: && x_{11} + x_{12} + x_{13} + x_{14} \\leq 10000 \\\\\n",
        "r_{9}: && x_{31} + x_{32} + x_{33} + x_{34} \\geq 15000 \\\\\n",
        "&& x_{ij}, y_j \\geq 0, \\quad i \\in \\{ 1 ,2, 3 \\}, j \\in \\{ 1 ,2, 3, 4 \\}\n",
        "\\end{aligned}\n",
        "\\end{equation*}"
      ]
    },
    {
      "cell_type": "markdown",
      "metadata": {},
      "source": [
        "## **3 - Solução manual por Simplex**"
      ]
    },
    {
      "cell_type": "markdown",
      "metadata": {},
      "source": [
        "## **4 - Solução por algoritmo**"
      ]
    },
    {
      "cell_type": "code",
      "execution_count": null,
      "metadata": {},
      "outputs": [],
      "source": [
        "A = np.array([\n",
        "    [1,   0,   0,   0,   1,   0,   0,   0,   1,   0,   0,   0,   1,   0,   0,   0],\n",
        "    [0,   1,   0,   0,   0,   1,   0,   0,   0,   1,   0,   0,   0,   1,   0,   0],\n",
        "    [0,   0,   1,   0,   0,   0,   1,   0,   0,   0,   1,   0,   0,   0,   1,   0],\n",
        "    [0,   0,   0,   1,   0,   0,   0,   1,   0,   0,   0,   1,   0,   0,   0,   1],\n",
        "    [0,   0,   0,   0,   27,  9,   4,  -4,   0,   0,   0,   0,   0,   0,   0,   0],\n",
        "    [0,   0,   0,   0,   0,   0,   0,   0,   22,  4,  -1,  -9,   0,   0,   0,   0],\n",
        "    [0,   0,   0,   0,   0,   0,   0,   0,   0,   0,   0,   0,   17, -1,  -6, -14],\n",
        "    [0,   0,   0,   0,   1,   1,   1,   1,   0,   0,   0,   0,   0,   0,   0,   0],\n",
        "    [0,   0,   0,   0,   0,   0,   0,   0,   0,   0,   0,   0,  -1,  -1,  -1,  -1],\n",
        "])\n",
        "\n",
        "b = [4000, 5050, 7100, 4300, 0, 0, 0, 10000, -15000]\n",
        "\n",
        "coef = np.array([0.83, 0.7, 1.6, 0.2, 4.13, 4, 3.8, 2.4,\n",
        "                 2.93, 2.8, 2.6, 1.2, 1.97, 1.84, 1.64, 0.24]) * (-1)\n",
        "\n",
        "var_bounds = np.array([np.zeros((16)), [np.inf for i in range(16)]]).T\n",
        "\n",
        "res = linprog(coef, A_ub=A, b_ub=b, bounds=var_bounds, method='highs')"
      ]
    },
    {
      "cell_type": "code",
      "execution_count": 16,
      "metadata": {},
      "outputs": [
        {
          "name": "stdout",
          "output_type": "stream",
          "text": [
            "Gasolina Bruta 1 vendida: 542.593 L\n",
            "Gasolina Bruta 2 vendida: 0.000 L\n",
            "Gasolina Bruta 3 vendida: 0.000 L\n",
            "Gasolina Bruta 4 vendida: 0.000 L\n",
            "-----------------------------\n",
            "Gasolina Bruta 1 usada para fabricar Combustível 1: 633.214 L\n",
            "Gasolina Bruta 2 usada para fabricar Combustível 1: 0.000 L\n",
            "Gasolina Bruta 3 usada para fabricar Combustível 1: 0.000 L\n",
            "Gasolina Bruta 4 usada para fabricar Combustível 1: 4274.194 L\n",
            "-----------------------------\n",
            "Gasolina Bruta 1 usada para fabricar Combustível 2: -0.000 L\n",
            "Gasolina Bruta 2 usada para fabricar Combustível 2: 0.000 L\n",
            "Gasolina Bruta 3 usada para fabricar Combustível 2: 0.000 L\n",
            "Gasolina Bruta 4 usada para fabricar Combustível 2: 0.000 L\n",
            "-----------------------------\n",
            "Gasolina Bruta 1 usada para fabricar Combustível 3: 2824.194 L\n",
            "Gasolina Bruta 2 usada para fabricar Combustível 3: 5050.000 L\n",
            "Gasolina Bruta 3 usada para fabricar Combustível 3: 7100.000 L\n",
            "Gasolina Bruta 4 usada para fabricar Combustível 3: 25.806 L\n",
            "-----------------------------\n",
            "Total de Combustível 1 fabricado: 4907.407 L\n",
            "Total de Combustível 2 fabricado: 0.000 L\n",
            "Total de Combustível 3 fabricado: 15000.000 L\n",
            "\n",
            "=============================\n",
            "\n",
            "Lucro total: R$ 39829.44\n"
          ]
        }
      ],
      "source": [
        "for j in range(4):\n",
        "    print(f\"Gasolina Bruta {j+1} vendida: {res.x[j]:.3f} L\")\n",
        "print(f\"-----------------------------\")\n",
        "\n",
        "for i in range(3):\n",
        "    for j in range(4):\n",
        "        print(f\"Gasolina Bruta {j+1} usada para fabricar Combustível {i+1}: {res.x[j+(4*(i+1))]:.3f} L\")\n",
        "    print(f\"-----------------------------\")\n",
        "\n",
        "for i in range(3):\n",
        "    print(f\"Total de Combustível {i+1} fabricado: {np.sum(res.x[4*(i+1):4*(i+2)]):.3f} L\")\n",
        "\n",
        "print(f\"\\n=============================\\n\")\n",
        "print(f\"Lucro total: R$ {-res.fun:.2f}\")"
      ]
    },
    {
      "cell_type": "markdown",
      "metadata": {},
      "source": [
        "No total, foram vendidos:\n",
        "\n",
        "*   4907,407 litros de Combustível 1;\n",
        "*   15000 litros de Combustível 3;\n",
        "*   542,593 litros de Gasolina Bruta 1,\n",
        "\n",
        "obtendo no final um lucro de R$ 39829,44."
      ]
    }
  ],
  "metadata": {
    "colab": {
      "provenance": []
    },
    "kernelspec": {
      "display_name": "base",
      "language": "python",
      "name": "python3"
    },
    "language_info": {
      "codemirror_mode": {
        "name": "ipython",
        "version": 3
      },
      "file_extension": ".py",
      "mimetype": "text/x-python",
      "name": "python",
      "nbconvert_exporter": "python",
      "pygments_lexer": "ipython3",
      "version": "3.12.2"
    }
  },
  "nbformat": 4,
  "nbformat_minor": 0
}
