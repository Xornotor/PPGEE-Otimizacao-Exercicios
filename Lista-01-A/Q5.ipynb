{
  "cells": [
    {
      "cell_type": "markdown",
      "metadata": {
        "id": "W1jDBa-h43Jq"
      },
      "source": [
        "<a target=\"_blank\" href=\"https://colab.research.google.com/github/Xornotor/PPGEE-Otimizacao-Exercicios/blob/main/Lista-01-A/Q5.ipynb\">\n",
        "  <img src=\"https://colab.research.google.com/assets/colab-badge.svg\" alt=\"Open In Colab\"/>\n",
        "</a>"
      ]
    },
    {
      "cell_type": "markdown",
      "metadata": {
        "id": "9DEG6_BM43Jr"
      },
      "source": [
        "# **Lista de Exercícios 01-A | Questão 5**\n",
        "\n",
        "**UFBA** | PPGEE0016 - Otimização\n",
        "\n",
        "**Aluno:** André Paiva Conrado Rodrigues"
      ]
    },
    {
      "cell_type": "code",
      "execution_count": null,
      "metadata": {
        "id": "B1sqGz4J43Js"
      },
      "outputs": [],
      "source": [
        "# Importação de dependências\n",
        "import numpy as np\n",
        "from scipy.optimize import linprog"
      ]
    },
    {
      "cell_type": "markdown",
      "metadata": {
        "id": "PYIkRNSm43Js"
      },
      "source": [
        "## **1. Filtragem do problema**"
      ]
    },
    {
      "cell_type": "markdown",
      "source": [
        "### **Isolando a Gasolina Bruta 1**\n",
        "\n",
        "Analisando o critério de Octanagem, Podemos perceber que o Combustível 1 só pode ser feito a partir da Gasolina Bruta 4; que o Combustível 2 pode ser feito a partir das Gasolinas Brutas 3 e 4; e que o Combustível 3 pode ser feito a partir das Gasolinas Brutas 2, 3 e 4.\n",
        "\n",
        "Nesse sentido, podemos perceber imediatamente que a Gasolina Bruta 1 não será utilizada na cadeia produtiva, e que portanto, todos os 4000L serão vendidos, o que já garante um lucro de:\n",
        "\n",
        "$$4000 \\cdot (1,85 - 1,02) = \\textrm{R\\$ } 3320$$\n",
        "\n",
        "O valor de R$ 3320 será isolado para soma posterior."
      ],
      "metadata": {
        "id": "MrJzsZYh5mcz"
      }
    },
    {
      "cell_type": "markdown",
      "source": [
        "## **2. Problema de otimização**"
      ],
      "metadata": {
        "id": "eg9TZOWg5gZN"
      }
    },
    {
      "cell_type": "markdown",
      "source": [
        "Considerando:\n",
        "\n",
        "*   $x_1$ a quantidade usada de Gasolina Bruta 4 para produzir Combustível 1;\n",
        "*   $x_2$ a quantidade usada de Gasolina Bruta 3 para produzir Combustível 2;\n",
        "*   $x_3$ a quantidade usada de Gasolina Bruta 4 para produzir Combustível 2;\n",
        "*   $x_4$ a quantidade usada de Gasolina Bruta 2 para produzir Combustível 3;\n",
        "*   $x_5$ a quantidade usada de Gasolina Bruta 3 para produzir Combustível 3;\n",
        "*   $x_6$ a quantidade usada de Gasolina Bruta 4 para produzir Combustível 3;\n",
        "*   $x_7$ a quantidade vendida de Gasolina Bruta 2;\n",
        "*   $x_8$ a quantidade vendida de Gasolina Bruta 3;\n",
        "*   $x_9$ a quantidade vendida de Gasolina Bruta 4;\n",
        "\n",
        "Temos os seguintes lucros:\n",
        "\n",
        "*   $(5,15 - 2,75)x_1 = 2,4x_1$;\n",
        "*   $(3,95 - 1,35)x_2 = 2,6x_2$;\n",
        "*   $(3,95 - 2,75)x_3 = 1,2x_3$;\n",
        "*   $(2,99 - 1,15)x_4 = 1,84x_4$;\n",
        "*   $(2,99 - 1,35)x_5 = 1,64x_5$;\n",
        "*   $(2,99 - 2,75)x_6 = 0,24x_6$;\n",
        "*   $(1,85 - 1,15)x_7 = 0,7x_7$;\n",
        "*   $(2,95 - 1,35)x_8 = 1,6x_8$;\n",
        "*   $(2,95 - 2,75)x_9 = 0,2x_9$.\n",
        "\n",
        "Temos o seguinte problema de otimização:\n",
        "\n",
        "\\begin{equation*}\n",
        "\\begin{aligned}\n",
        "\\text{Maximizar} \\\\\n",
        "&& Z = 2.4x_1 + 2.6x_2 + 1.2x_3 + 1.84x_4 + 1.64x_5 + 0.24x_6 + 0.7x_7 + 1.6x_8 + 0.2x_9 \\\\\n",
        "\\text{Sujeito a} \\\\\n",
        "c_{1}: && 2x_1 + 3x_2 + x_3 \\leq 5 \\\\\n",
        "c_{2}: && 4x_1 + 2x_2 + 2x_3 \\leq 11 \\\\\n",
        "c_{3}: && 3x_1 + 2x_2 + 2x_3 \\leq 8 \\\\\n",
        "&& x_1, x_2, x_3 \\geq 0 \\\\\n",
        "\\end{aligned}\n",
        "\\end{equation*}"
      ],
      "metadata": {
        "id": "ThL5tohpAl6Q"
      }
    },
    {
      "cell_type": "markdown",
      "metadata": {
        "id": "bz3_HohX43Js"
      },
      "source": [
        "## **3. Solução manual por Simplex** **negrito**"
      ]
    },
    {
      "cell_type": "markdown",
      "metadata": {
        "id": "jZka0mFa43Jt"
      },
      "source": []
    },
    {
      "cell_type": "markdown",
      "metadata": {
        "id": "1_EvN7Gx43Jt"
      },
      "source": [
        "## **4. Solução por algoritmo**"
      ]
    },
    {
      "cell_type": "code",
      "execution_count": null,
      "metadata": {
        "id": "GLvibVMB43Jt"
      },
      "outputs": [],
      "source": []
    }
  ],
  "metadata": {
    "kernelspec": {
      "display_name": "base",
      "language": "python",
      "name": "python3"
    },
    "language_info": {
      "codemirror_mode": {
        "name": "ipython",
        "version": 3
      },
      "file_extension": ".py",
      "mimetype": "text/x-python",
      "name": "python",
      "nbconvert_exporter": "python",
      "pygments_lexer": "ipython3",
      "version": "3.12.2"
    },
    "colab": {
      "provenance": []
    }
  },
  "nbformat": 4,
  "nbformat_minor": 0
}