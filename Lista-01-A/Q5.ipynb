{
  "cells": [
    {
      "cell_type": "markdown",
      "metadata": {
        "id": "W1jDBa-h43Jq"
      },
      "source": [
        "<a target=\"_blank\" href=\"https://colab.research.google.com/github/Xornotor/PPGEE-Otimizacao-Exercicios/blob/main/Lista-01-A/Q5.ipynb\">\n",
        "  <img src=\"https://colab.research.google.com/assets/colab-badge.svg\" alt=\"Open In Colab\"/>\n",
        "</a>"
      ]
    },
    {
      "cell_type": "markdown",
      "metadata": {
        "id": "9DEG6_BM43Jr"
      },
      "source": [
        "# **Lista de Exercícios 01-A | Questão 5**\n",
        "\n",
        "**UFBA** | PPGEE0016 - Otimização\n",
        "\n",
        "**Aluno:** André Paiva Conrado Rodrigues"
      ]
    },
    {
      "cell_type": "code",
      "execution_count": 1,
      "metadata": {
        "id": "B1sqGz4J43Js"
      },
      "outputs": [],
      "source": [
        "# Importação de dependências e configurações de pretty-printing\n",
        "import numpy as np\n",
        "from scipy.optimize import linprog\n",
        "np.set_printoptions(precision=3, suppress=True, linewidth=150)"
      ]
    },
    {
      "cell_type": "markdown",
      "metadata": {
        "id": "PYIkRNSm43Js"
      },
      "source": [
        "## **1. Filtragem do problema**"
      ]
    },
    {
      "cell_type": "markdown",
      "source": [
        "### **Isolando a Gasolina Bruta 1**\n",
        "\n",
        "Analisando o critério de Octanagem, Podemos perceber que o Combustível 1 só pode ser feito a partir da Gasolina Bruta 4; que o Combustível 2 pode ser feito a partir das Gasolinas Brutas 3 e 4; e que o Combustível 3 pode ser feito a partir das Gasolinas Brutas 2, 3 e 4.\n",
        "\n",
        "Nesse sentido, podemos perceber imediatamente que a Gasolina Bruta 1 não será utilizada na cadeia produtiva, e que portanto, todos os 4000L serão vendidos, o que já garante um lucro de:\n",
        "\n",
        "$$4000 \\cdot (1,85 - 1,02) = \\textrm{R\\$ } 3320$$\n",
        "\n",
        "O valor de R$ 3320 será isolado para soma posterior."
      ],
      "metadata": {
        "id": "MrJzsZYh5mcz"
      }
    },
    {
      "cell_type": "markdown",
      "source": [
        "## **2. Problema de otimização**"
      ],
      "metadata": {
        "id": "eg9TZOWg5gZN"
      }
    },
    {
      "cell_type": "markdown",
      "source": [
        "Considerando:\n",
        "\n",
        "*   $x_1$ a quantidade usada de Gasolina Bruta 4 para produzir Combustível 1;\n",
        "*   $x_2$ a quantidade usada de Gasolina Bruta 3 para produzir Combustível 2;\n",
        "*   $x_3$ a quantidade usada de Gasolina Bruta 4 para produzir Combustível 2;\n",
        "*   $x_4$ a quantidade usada de Gasolina Bruta 2 para produzir Combustível 3;\n",
        "*   $x_5$ a quantidade usada de Gasolina Bruta 3 para produzir Combustível 3;\n",
        "*   $x_6$ a quantidade usada de Gasolina Bruta 4 para produzir Combustível 3;\n",
        "*   $x_7$ a quantidade vendida de Gasolina Bruta 2;\n",
        "*   $x_8$ a quantidade vendida de Gasolina Bruta 3;\n",
        "*   $x_9$ a quantidade vendida de Gasolina Bruta 4;\n",
        "\n",
        "Temos os seguintes lucros:\n",
        "\n",
        "*   $(5,15 - 2,75)x_1 = 2,4x_1$;\n",
        "*   $(3,95 - 1,35)x_2 = 2,6x_2$;\n",
        "*   $(3,95 - 2,75)x_3 = 1,2x_3$;\n",
        "*   $(2,99 - 1,15)x_4 = 1,84x_4$;\n",
        "*   $(2,99 - 1,35)x_5 = 1,64x_5$;\n",
        "*   $(2,99 - 2,75)x_6 = 0,24x_6$;\n",
        "*   $(1,85 - 1,15)x_7 = 0,7x_7$;\n",
        "*   $(2,95 - 1,35)x_8 = 1,6x_8$;\n",
        "*   $(2,95 - 2,75)x_9 = 0,2x_9$.\n",
        "\n",
        "Temos o seguinte problema de otimização:\n",
        "\n",
        "\\begin{equation*}\n",
        "\\begin{aligned}\n",
        "\\text{Maximizar} \\\\\n",
        "&& Z = 2.4x_1 + 2.6x_2 + 1.2x_3 + 1.84x_4 + 1.64x_5 + 0.24x_6 + 0.7x_7 + 1.6x_8 + 0.2x_9 \\\\\n",
        "\\text{Sujeito a} \\\\\n",
        "c_{1}: && x_1 \\leq 10000 \\\\\n",
        "c_{2}: && x_4 + x_5 + x_6 \\geq 15000 \\\\\n",
        "c_{3}: && x_4 + x_7 = 5050 \\\\\n",
        "c_{4}: && x_2 + x_5 + x_8 = 7100 \\\\\n",
        "c_{5}: && x_1 + x_3 + x_6 + x_9 = 4300 \\\\\n",
        "&& x_1, x_2, x_3, x_4, x_5, x_6, x_7, x_8, x_9 \\geq 0 \\\\\n",
        "\\end{aligned}\n",
        "\\end{equation*}"
      ],
      "metadata": {
        "id": "ThL5tohpAl6Q"
      }
    },
    {
      "cell_type": "markdown",
      "metadata": {
        "id": "bz3_HohX43Js"
      },
      "source": [
        "## **3. Solução manual por Simplex**"
      ]
    },
    {
      "cell_type": "markdown",
      "source": [
        "Primeiramente, é necessário colocar a função objetivo e as restrições na forma padrão, adicionando variáveis de folga para eliminar as desigualdades. Deste modo, o problema é reformulado da seguinte maneira:\n",
        "\n",
        "\\begin{equation*}\n",
        "\\begin{aligned}\n",
        "\\text{Maximizar} \\\\\n",
        "&& Z - 2.4x_1 - 2.6x_2 - 1.2x_3 - 1.84x_4 - 1.64x_5 - 0.24x_6 - 0.7x_7 - 1.6x_8 - 0.2x_9 = 0 \\\\\n",
        "\\text{Sujeito a} \\\\\n",
        "c_{1}: && x_1 + x_{10} = 10000 \\\\\n",
        "c_{2}: && -x_4 - x_5 - x_6 + x_{11} = -15000 \\\\\n",
        "c_{3}: && x_4 + x_7 = 5050 \\\\\n",
        "c_{4}: && x_2 + x_5 + x_8 = 7100 \\\\\n",
        "c_{5}: && x_1 + x_3 + x_6 + x_9 = 4300 \\\\\n",
        "&& x_1, x_2, x_3, x_4, x_5, x_6, x_7, x_8, x_9, x_{10}, x_{11} \\geq 0 \\\\\n",
        "\\end{aligned}\n",
        "\\end{equation*}"
      ],
      "metadata": {
        "id": "F2Ipb78gU1t9"
      }
    },
    {
      "cell_type": "markdown",
      "metadata": {
        "id": "jZka0mFa43Jt"
      },
      "source": [
        "Montando a matriz $\\boldsymbol{M}$ para o algoritmo simplex:\n",
        "\n",
        "| ////  | $Z$ | $x_{1}$ | $x_{2}$ | $x_{3}$ | $x_{4}$ | $x_{5}$ | $x_{6}$ | $x_{7}$ | $x_{8}$ | $x_{9}$ | $x_{10}$ | $x_{11}$ | $b$   |\n",
        "|-------|-----|---------|---------|---------|---------|---------|---------|---------|---------|---------|----------|----------|-------|\n",
        "| $L_1$ | 0   | 1       | 0       | 0       | 0       | 0       | 0       | 0       | 0       | 0       | 1        | 0        | 10000 |\n",
        "| $L_2$ | 0   | 0       | 0       | 0       |  1      |  1      |  1      | 0       | 0       | 0       | 0        | -1       | -15000|\n",
        "| $L_3$ | 0   | 0       | 0       | 0       | 1       | 0       | 0       | 1       | 0       | 0       | 0        | 0        | 5050  |\n",
        "| $L_4$ | 0   | 0       | 1       | 0       | 0       | 1       | 0       | 0       | 1       | 0       | 0        | 0        | 7100  |\n",
        "| $L_5$ | 0   | 1       | 0       | 1       | 0       | 0       | 1       | 0       | 0       | 1       | 0        | 0        | 4300  |\n",
        "| $L_6$ | 1   | -2,4    | -2,6    | -1,2    | -1,84   | -1,64   | -0,24   | -0,7    | -1,6    | -0,2    | 0        | 0        | 0     |"
      ]
    },
    {
      "cell_type": "code",
      "source": [
        "M = np.array([\n",
        "    [0,     1,      0,     0,      0,     0,      0,     0,      0,     0,      1,     0,     10000],\n",
        "    [0,     0,      0,     0,     -1,    -1,     -1,     0,      0,     0,      0,     1,    -15000],\n",
        "    [0,     0,      0,     0,      1,     0,      0,     1,      0,     0,      0,     0,     5050 ],\n",
        "    [0,     0,      1,     0,      0,     1,      0,     0,      1,     0,      0,     0,     7100 ],\n",
        "    [0,     1,      0,     1,      0,     0,      1,     0,      0,     1,      0,     0,     4300 ],\n",
        "    [1,     -2.4,   -2.6,  -1.2,   -1.84, -1.64,  -0.24, -0.7,   -1.6,  -0.2,   0,     0,     0    ],\n",
        "], dtype=np.float64)"
      ],
      "metadata": {
        "id": "Wk98Tfjeem1f"
      },
      "execution_count": 2,
      "outputs": []
    },
    {
      "cell_type": "markdown",
      "source": [
        "### **Iteração 1**\n",
        "\n",
        "Iniciamos selecionando a coluna de $x_2$ como **coluna pivô** por possuir custo com menor valor (-2,6). A partir disto, efetuamos a divisão element-wise dos elementos da coluna $x_2$ pelos elementos da coluna $b$, e selecionando a menor magnitude, obtemos a **linha pivô**."
      ],
      "metadata": {
        "id": "Xv9J17yMhUpr"
      }
    },
    {
      "cell_type": "code",
      "source": [
        "b_col = 12\n",
        "pivot_col = 2\n",
        "div_pivot_b_cols = (M.T[b_col] / M.T[pivot_col])[:-1]\n",
        "div_pivot_b_cols"
      ],
      "metadata": {
        "id": "AhTpYGYjhmmW",
        "outputId": "7f1e4aac-b843-45e3-ffd8-a16b1c4c6661",
        "colab": {
          "base_uri": "https://localhost:8080/"
        }
      },
      "execution_count": 3,
      "outputs": [
        {
          "output_type": "stream",
          "name": "stderr",
          "text": [
            "<ipython-input-3-75da214d42f6>:3: RuntimeWarning: divide by zero encountered in divide\n",
            "  div_pivot_b_cols = (M.T[b_col] / M.T[pivot_col])[:-1]\n"
          ]
        },
        {
          "output_type": "execute_result",
          "data": {
            "text/plain": [
              "array([  inf,  -inf,   inf, 7100.,   inf])"
            ]
          },
          "metadata": {},
          "execution_count": 3
        }
      ]
    },
    {
      "cell_type": "code",
      "source": [
        "pivot_row = np.argmin(div_pivot_b_cols)\n",
        "pivot_row"
      ],
      "metadata": {
        "id": "eHtDq7kVhrXY",
        "outputId": "e04e2587-1ab6-46f9-cb2e-8eee8f04627a",
        "colab": {
          "base_uri": "https://localhost:8080/"
        }
      },
      "execution_count": 4,
      "outputs": [
        {
          "output_type": "execute_result",
          "data": {
            "text/plain": [
              "1"
            ]
          },
          "metadata": {},
          "execution_count": 4
        }
      ]
    },
    {
      "cell_type": "markdown",
      "source": [
        "Logo, a linha pivô é $L_4$. Não é necessária substitução, pois o elemento pivô  $M_{43}$ é igual a 1. A ideia agora é zerar todos os outros elementos da coluna $x_2$. Para tanto, fazemos as seguintes substituições:\n",
        "\n",
        "*   $L_6 \\rightarrow L_6 + 2.6L_4$"
      ],
      "metadata": {
        "id": "zJgFrqnFh00r"
      }
    },
    {
      "cell_type": "code",
      "source": [
        "for i in range(M.shape[0]):\n",
        "    if(i != pivot_row):\n",
        "        M[i] -= M[i][pivot_col] * M[pivot_row]\n",
        "M"
      ],
      "metadata": {
        "id": "gzc4fmZWiZPU",
        "outputId": "0cac27f3-36c3-4c11-a557-8cdef79c8340",
        "colab": {
          "base_uri": "https://localhost:8080/"
        }
      },
      "execution_count": 5,
      "outputs": [
        {
          "output_type": "execute_result",
          "data": {
            "text/plain": [
              "array([[     0.  ,      1.  ,      0.  ,      0.  ,      0.  ,      0.  ,      0.  ,      0.  ,      0.  ,      0.  ,      1.  ,      0.  ,\n",
              "         10000.  ],\n",
              "       [     0.  ,      0.  ,      0.  ,      0.  ,     -1.  ,     -1.  ,     -1.  ,      0.  ,      0.  ,      0.  ,      0.  ,      1.  ,\n",
              "        -15000.  ],\n",
              "       [     0.  ,      0.  ,      0.  ,      0.  ,      1.  ,      0.  ,      0.  ,      1.  ,      0.  ,      0.  ,      0.  ,      0.  ,\n",
              "          5050.  ],\n",
              "       [     0.  ,      0.  ,      1.  ,      0.  ,      1.  ,      2.  ,      1.  ,      0.  ,      1.  ,      0.  ,      0.  ,     -1.  ,\n",
              "         22100.  ],\n",
              "       [     0.  ,      1.  ,      0.  ,      1.  ,      0.  ,      0.  ,      1.  ,      0.  ,      0.  ,      1.  ,      0.  ,      0.  ,\n",
              "          4300.  ],\n",
              "       [     1.  ,     -2.4 ,     -2.6 ,     -1.2 ,     -4.44,     -4.24,     -2.84,     -0.7 ,     -1.6 ,     -0.2 ,      0.  ,      2.6 ,\n",
              "        -39000.  ]])"
            ]
          },
          "metadata": {},
          "execution_count": 5
        }
      ]
    },
    {
      "cell_type": "markdown",
      "source": [
        "### **Iteração 2**\n",
        "\n",
        "Agora, a coluna pivô é a coluna de $x_1$. Efetuamos a divisão element-wise entre a coluna $x_1$ e a coluna $b$ para obter a linha pivô:"
      ],
      "metadata": {
        "id": "ziQ8HAhaivGD"
      }
    },
    {
      "cell_type": "code",
      "source": [
        "pivot_col = 1\n",
        "div_pivot_b_cols = (M.T[b_col] / M.T[pivot_col])[:-1]\n",
        "div_pivot_b_cols"
      ],
      "metadata": {
        "id": "93zzcytwi-j5",
        "outputId": "0a9fa82d-ea41-4c1a-fd1e-b47b028e99e8",
        "colab": {
          "base_uri": "https://localhost:8080/"
        }
      },
      "execution_count": 6,
      "outputs": [
        {
          "output_type": "stream",
          "name": "stderr",
          "text": [
            "<ipython-input-6-35561d2b2d31>:2: RuntimeWarning: divide by zero encountered in divide\n",
            "  div_pivot_b_cols = (M.T[b_col] / M.T[pivot_col])[:-1]\n"
          ]
        },
        {
          "output_type": "execute_result",
          "data": {
            "text/plain": [
              "array([10000.,   -inf,    inf,    inf,  4300.])"
            ]
          },
          "metadata": {},
          "execution_count": 6
        }
      ]
    },
    {
      "cell_type": "code",
      "source": [
        "pivot_row = np.argmin(div_pivot_b_cols)\n",
        "pivot_row"
      ],
      "metadata": {
        "id": "pl_-r8yajBNH",
        "outputId": "67cbaf8d-1419-4ca7-c38a-299e9ea11cec",
        "colab": {
          "base_uri": "https://localhost:8080/"
        }
      },
      "execution_count": 7,
      "outputs": [
        {
          "output_type": "execute_result",
          "data": {
            "text/plain": [
              "1"
            ]
          },
          "metadata": {},
          "execution_count": 7
        }
      ]
    },
    {
      "cell_type": "markdown",
      "source": [
        "A linha pivô agora é $L_5$. Novamente, não são necessárias substituições, pois $M_{52}$ é igual a 1. Para zerar os outros elementos da coluna $x_1$:\n",
        "\n",
        "*   $L_1 \\rightarrow L_1 - L_5$\n",
        "*   $L_6 \\rightarrow L_6 + 2.4L_5$"
      ],
      "metadata": {
        "id": "8xw6DOnmjP66"
      }
    },
    {
      "cell_type": "code",
      "source": [
        "for i in range(M.shape[0]):\n",
        "    if(i != pivot_row):\n",
        "        M[i] -= M[i][pivot_col] * M[pivot_row]\n",
        "M"
      ],
      "metadata": {
        "id": "G5rOOe3Yjr1H",
        "outputId": "3d47036d-de7d-40a3-b6c4-d7ba1af3ce99",
        "colab": {
          "base_uri": "https://localhost:8080/"
        }
      },
      "execution_count": 8,
      "outputs": [
        {
          "output_type": "execute_result",
          "data": {
            "text/plain": [
              "array([[     0.  ,      1.  ,      0.  ,      0.  ,      1.  ,      1.  ,      1.  ,      0.  ,      0.  ,      0.  ,      1.  ,     -1.  ,\n",
              "         25000.  ],\n",
              "       [     0.  ,      0.  ,      0.  ,      0.  ,     -1.  ,     -1.  ,     -1.  ,      0.  ,      0.  ,      0.  ,      0.  ,      1.  ,\n",
              "        -15000.  ],\n",
              "       [     0.  ,      0.  ,      0.  ,      0.  ,      1.  ,      0.  ,      0.  ,      1.  ,      0.  ,      0.  ,      0.  ,      0.  ,\n",
              "          5050.  ],\n",
              "       [     0.  ,      0.  ,      1.  ,      0.  ,      1.  ,      2.  ,      1.  ,      0.  ,      1.  ,      0.  ,      0.  ,     -1.  ,\n",
              "         22100.  ],\n",
              "       [     0.  ,      1.  ,      0.  ,      1.  ,      1.  ,      1.  ,      2.  ,      0.  ,      0.  ,      1.  ,      0.  ,     -1.  ,\n",
              "         19300.  ],\n",
              "       [     1.  ,     -2.4 ,     -2.6 ,     -1.2 ,     -6.84,     -6.64,     -5.24,     -0.7 ,     -1.6 ,     -0.2 ,      0.  ,      5.  ,\n",
              "        -75000.  ]])"
            ]
          },
          "metadata": {},
          "execution_count": 8
        }
      ]
    },
    {
      "cell_type": "markdown",
      "source": [
        "### **Iteração 3**\n",
        "\n",
        "Agora, a coluna pivô é a coluna de $x_4$. Efetuamos a divisão element-wise entre a coluna $x_4$ e a coluna $b$ para obter a linha pivô:"
      ],
      "metadata": {
        "id": "fD0UF1q_jzfc"
      }
    },
    {
      "cell_type": "code",
      "source": [
        "pivot_col = 4\n",
        "div_pivot_b_cols = (M.T[b_col] / M.T[pivot_col])[:-1]\n",
        "div_pivot_b_cols"
      ],
      "metadata": {
        "id": "uMyPyv-ij4kN",
        "outputId": "da35dd6a-c6a8-41ab-8e0c-a3b10306f240",
        "colab": {
          "base_uri": "https://localhost:8080/"
        }
      },
      "execution_count": 9,
      "outputs": [
        {
          "output_type": "execute_result",
          "data": {
            "text/plain": [
              "array([25000., 15000.,  5050., 22100., 19300.])"
            ]
          },
          "metadata": {},
          "execution_count": 9
        }
      ]
    },
    {
      "cell_type": "code",
      "source": [
        "pivot_row = np.argmin(div_pivot_b_cols)\n",
        "pivot_row"
      ],
      "metadata": {
        "id": "-O9Dvgc6j64l",
        "outputId": "1a276f00-3238-46ad-d7de-6ebb974243a7",
        "colab": {
          "base_uri": "https://localhost:8080/"
        }
      },
      "execution_count": 10,
      "outputs": [
        {
          "output_type": "execute_result",
          "data": {
            "text/plain": [
              "2"
            ]
          },
          "metadata": {},
          "execution_count": 10
        }
      ]
    },
    {
      "cell_type": "markdown",
      "source": [
        "A linha pivô agora é $L_3$. Novamente, não são necessárias substituições, pois $M_{25}$ é igual a 1. Para zerar os outros elementos da coluna $x_4$:\n",
        "\n",
        "*   $L_2 \\rightarrow L_2 - L_3$\n",
        "*   $L_6 \\rightarrow L_6 + 1.84L_3$"
      ],
      "metadata": {
        "id": "VVgauG7rj9YW"
      }
    },
    {
      "cell_type": "code",
      "source": [
        "for i in range(M.shape[0]):\n",
        "    if(i != pivot_row):\n",
        "        M[i] -= M[i][pivot_col] * M[pivot_row]\n",
        "M"
      ],
      "metadata": {
        "id": "9i48kW2WkVKH",
        "outputId": "72fc7ea7-fa11-4c3e-b6e8-53f0dbcc6acc",
        "colab": {
          "base_uri": "https://localhost:8080/"
        }
      },
      "execution_count": 11,
      "outputs": [
        {
          "output_type": "execute_result",
          "data": {
            "text/plain": [
              "array([[     0.  ,      1.  ,      0.  ,      0.  ,      0.  ,      1.  ,      1.  ,     -1.  ,      0.  ,      0.  ,      1.  ,     -1.  ,\n",
              "         19950.  ],\n",
              "       [     0.  ,      0.  ,      0.  ,      0.  ,      0.  ,     -1.  ,     -1.  ,      1.  ,      0.  ,      0.  ,      0.  ,      1.  ,\n",
              "         -9950.  ],\n",
              "       [     0.  ,      0.  ,      0.  ,      0.  ,      1.  ,      0.  ,      0.  ,      1.  ,      0.  ,      0.  ,      0.  ,      0.  ,\n",
              "          5050.  ],\n",
              "       [     0.  ,      0.  ,      1.  ,      0.  ,      0.  ,      2.  ,      1.  ,     -1.  ,      1.  ,      0.  ,      0.  ,     -1.  ,\n",
              "         17050.  ],\n",
              "       [     0.  ,      1.  ,      0.  ,      1.  ,      0.  ,      1.  ,      2.  ,     -1.  ,      0.  ,      1.  ,      0.  ,     -1.  ,\n",
              "         14250.  ],\n",
              "       [     1.  ,     -2.4 ,     -2.6 ,     -1.2 ,      0.  ,     -6.64,     -5.24,      6.14,     -1.6 ,     -0.2 ,      0.  ,      5.  ,\n",
              "        -40458.  ]])"
            ]
          },
          "metadata": {},
          "execution_count": 11
        }
      ]
    },
    {
      "cell_type": "markdown",
      "source": [
        "Repare que a linha de coeficientes de custo agora tem apenas valores positivos! Isto significa que chegamos ao final das iterações."
      ],
      "metadata": {
        "id": "fxgV3_YLkv9Y"
      }
    },
    {
      "cell_type": "markdown",
      "metadata": {
        "id": "1_EvN7Gx43Jt"
      },
      "source": [
        "## **4. Solução por algoritmo**"
      ]
    },
    {
      "cell_type": "code",
      "execution_count": 12,
      "metadata": {
        "id": "GLvibVMB43Jt",
        "colab": {
          "base_uri": "https://localhost:8080/"
        },
        "outputId": "e9cce55c-ed01-4e2f-d848-220c6c460875"
      },
      "outputs": [
        {
          "output_type": "execute_result",
          "data": {
            "text/plain": [
              "        message: Optimization terminated successfully. (HiGHS Status 7: Optimal)\n",
              "        success: True\n",
              "         status: 0\n",
              "            fun: -25100.0\n",
              "              x: [ 1.450e+03  0.000e+00  0.000e+00  5.050e+03  7.100e+03\n",
              "                   2.850e+03  0.000e+00  0.000e+00  0.000e+00]\n",
              "            nit: 0\n",
              "          lower:  residual: [ 1.450e+03  0.000e+00  0.000e+00  5.050e+03\n",
              "                              7.100e+03  2.850e+03  0.000e+00  0.000e+00\n",
              "                              0.000e+00]\n",
              "                 marginals: [ 0.000e+00  1.200e+00  1.200e+00  0.000e+00\n",
              "                              0.000e+00  0.000e+00  3.300e+00  2.200e+00\n",
              "                              2.200e+00]\n",
              "          upper:  residual: [ 8.550e+03        inf        inf        inf\n",
              "                                    inf        inf        inf        inf\n",
              "                                    inf]\n",
              "                 marginals: [ 0.000e+00  0.000e+00  0.000e+00  0.000e+00\n",
              "                              0.000e+00  0.000e+00  0.000e+00  0.000e+00\n",
              "                              0.000e+00]\n",
              "          eqlin:  residual: []\n",
              "                 marginals: []\n",
              "        ineqlin:  residual: [ 0.000e+00  0.000e+00  0.000e+00  0.000e+00]\n",
              "                 marginals: [-2.160e+00 -4.000e+00 -3.800e+00 -2.400e+00]\n",
              " mip_node_count: 0\n",
              " mip_dual_bound: 0.0\n",
              "        mip_gap: 0.0"
            ]
          },
          "metadata": {},
          "execution_count": 12
        }
      ],
      "source": [
        "A = np.array([\n",
        "    [0,      0,     0,     -1,    -1,     -1,     0,      0,     0],\n",
        "    [0,      0,     0,      1,     0,      0,     1,      0,     0],\n",
        "    [0,      1,     0,      0,     1,      0,     0,      1,     0],\n",
        "    [1,      0,     1,      0,     0,      1,     0,      0,     1],\n",
        "])\n",
        "\n",
        "b = [-15000, 5050, 7100, 4300]\n",
        "\n",
        "coef = np.array([2.4, 2.6, 1.2, 1.84, 1.64, 0.24, 0.7, 1.6, 0.2]) * (-1)\n",
        "\n",
        "var_bounds = np.array([[0, 0, 0, 0, 0, 0, 0, 0, 0], [10000, np.inf, np.inf, np.inf, np.inf, np.inf, np.inf, np.inf, np.inf]]).T\n",
        "\n",
        "res = linprog(coef, A_ub=A, b_ub=b, bounds=var_bounds, method='highs')\n",
        "res"
      ]
    }
  ],
  "metadata": {
    "kernelspec": {
      "display_name": "base",
      "language": "python",
      "name": "python3"
    },
    "language_info": {
      "codemirror_mode": {
        "name": "ipython",
        "version": 3
      },
      "file_extension": ".py",
      "mimetype": "text/x-python",
      "name": "python",
      "nbconvert_exporter": "python",
      "pygments_lexer": "ipython3",
      "version": "3.12.2"
    },
    "colab": {
      "provenance": []
    }
  },
  "nbformat": 4,
  "nbformat_minor": 0
}