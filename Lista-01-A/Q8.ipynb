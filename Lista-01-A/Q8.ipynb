{
 "cells": [
  {
   "cell_type": "markdown",
   "metadata": {},
   "source": [
    "<a target=\"_blank\" href=\"https://colab.research.google.com/github/Xornotor/PPGEE-Otimizacao-Exercicios/blob/main/Lista-01-A/Q8.ipynb\">\n",
    "  <img src=\"https://colab.research.google.com/assets/colab-badge.svg\" alt=\"Open In Colab\"/>\n",
    "</a>"
   ]
  },
  {
   "cell_type": "markdown",
   "metadata": {},
   "source": [
    "# **Lista de Exercícios 01-A | Questão 8**\n",
    "\n",
    "**UFBA** | PPGEE0016 - Otimização\n",
    "\n",
    "**Aluno:** André Paiva Conrado Rodrigues"
   ]
  },
  {
   "cell_type": "code",
   "execution_count": 1,
   "metadata": {},
   "outputs": [],
   "source": [
    "# Importação de dependências\n",
    "import numpy as np\n",
    "from scipy.optimize import linprog\n",
    "np.set_printoptions(precision=3, suppress=True)"
   ]
  },
  {
   "cell_type": "markdown",
   "metadata": {},
   "source": [
    "## **1. Problema de Otimização**\n",
    "\n",
    "Considerando:\n",
    "\n",
    "*   $x_1$ A quantidade do Combustível A a ser fabricada;\n",
    "*   $x_2$ A quantidade do Combustível B a ser fabricada;\n",
    "*   $x_3$ A quantidade do Combustível C a ser fabricada;\n",
    "\n",
    "Temos o seguinte problema de otimização:\n",
    "\n",
    "\\begin{equation*}\n",
    "\\begin{aligned}\n",
    "\\text{Maximizar} \\\\\n",
    "&& Z = 20x_1 + 22x_2 + 18x_3 \\\\\n",
    "\\text{Sujeito a} \\\\\n",
    "c_{1}: && 8x_1 + 5x_2 + 4x_3 \\leq 120 \\\\\n",
    "c_{2}: && 5x_1 + 4x_2 + 2x_3 \\leq 200 \\\\\n",
    "&& x_1, x_2, x_3 \\geq 0 \\\\\n",
    "\\end{aligned}\n",
    "\\end{equation*}"
   ]
  },
  {
   "cell_type": "markdown",
   "metadata": {},
   "source": [
    "## **2. Solução manual por Simplex**"
   ]
  },
  {
   "cell_type": "markdown",
   "metadata": {},
   "source": [
    "Primeiramente, é necessário colocar a função objetivo e as restrições na forma padrão, adicionando variáveis de folga para eliminar as desigualdades. Deste modo, o problema é reformulado da seguinte maneira:"
   ]
  },
  {
   "cell_type": "markdown",
   "metadata": {},
   "source": [
    "\\begin{equation*}\n",
    "\\begin{aligned}\n",
    "\\text{Maximizar} \\\\\n",
    "&& Z - 20x_1 - 22x_2 - 18x_3 = 0\\\\\n",
    "\\text{Sujeito a} \\\\\n",
    "c_{1}: && 8x_1 + 5x_2 + 4x_3 + x_4 = 120 \\\\\n",
    "c_{2}: && 5x_1 + 4x_2 + 2x_3 + x_5 = 200 \\\\\n",
    "&& x_1, x_2, x_3, x_4, x_5 \\geq 0 \\\\\n",
    "\\end{aligned}\n",
    "\\end{equation*}"
   ]
  },
  {
   "cell_type": "markdown",
   "metadata": {},
   "source": [
    "Montando a matriz $\\boldsymbol{M}$ para o algoritmo Simplex:\n",
    "\n",
    "|        ////        | $Z$ | $x_1$ | $x_2$ | $x_3$ | $x_4$ | $x_5$ |  $b$  |\n",
    "|--------------------|-----|-------|-------|-------|-------|-------|-------|\n",
    "| $\\boldsymbol{L_1}$ |  0  |   8   |   5   |   4   |   1   |   0   |  120  |\n",
    "| $\\boldsymbol{L_2}$ |  0  |   5   |   4   |   2   |   0   |   1   |  200  |\n",
    "| $\\boldsymbol{L_3}$ |  1  |  -20  |  -22  |  -18  |   0   |   0   |   0   |"
   ]
  },
  {
   "cell_type": "code",
   "execution_count": 2,
   "metadata": {},
   "outputs": [],
   "source": [
    "M = np.array([\n",
    "    [0,  8,   5,   4,  1,  0,  120 ],\n",
    "    [0,  5,   4,   2,  0,  1,  200 ],\n",
    "    [1, -20, -22, -18, 0,  0,  0   ]\n",
    "], dtype=np.float64)"
   ]
  },
  {
   "cell_type": "markdown",
   "metadata": {},
   "source": [
    "### **Iteração 1**\n",
    "\n",
    "Iniciamos selecionando a coluna de $x_2$ como **coluna pivô** por possuir custo com menor valor (-22). A partir disto, efetuamos a divisão *element-wise* dos elementos da coluna $b$ pelos elementos da coluna $x_2$, e selecionando o menor valor, obtemos a **linha pivô**."
   ]
  },
  {
   "cell_type": "code",
   "execution_count": 3,
   "metadata": {},
   "outputs": [
    {
     "data": {
      "text/plain": [
       "array([24., 50.])"
      ]
     },
     "execution_count": 3,
     "metadata": {},
     "output_type": "execute_result"
    }
   ],
   "source": [
    "b_col = 6\n",
    "pivot_col = 2\n",
    "div_pivot_b_cols = (M.T[b_col] / M.T[pivot_col])[:-1]\n",
    "div_pivot_b_cols"
   ]
  },
  {
   "cell_type": "code",
   "execution_count": 4,
   "metadata": {},
   "outputs": [
    {
     "data": {
      "text/plain": [
       "np.int64(0)"
      ]
     },
     "execution_count": 4,
     "metadata": {},
     "output_type": "execute_result"
    }
   ],
   "source": [
    "pivot_row = np.argmin(div_pivot_b_cols)\n",
    "pivot_row"
   ]
  },
  {
   "cell_type": "markdown",
   "metadata": {},
   "source": [
    "Logo, a linha pivô é $L_1$. Fazemos, então, a substituição $L_1 \\rightarrow \\frac{L_1}{5}$."
   ]
  },
  {
   "cell_type": "code",
   "execution_count": 5,
   "metadata": {},
   "outputs": [
    {
     "data": {
      "text/plain": [
       "array([[  0. ,   1.6,   1. ,   0.8,   0.2,   0. ,  24. ],\n",
       "       [  0. ,   5. ,   4. ,   2. ,   0. ,   1. , 200. ],\n",
       "       [  1. , -20. , -22. , -18. ,   0. ,   0. ,   0. ]])"
      ]
     },
     "execution_count": 5,
     "metadata": {},
     "output_type": "execute_result"
    }
   ],
   "source": [
    "M[pivot_row] /= M[pivot_row][pivot_col]\n",
    "M"
   ]
  },
  {
   "cell_type": "markdown",
   "metadata": {},
   "source": [
    "A ideia agora é zerar todos os outros elementos da coluna $x_2$. Para tanto, fazemos as seguintes substituições:\n",
    "\n",
    "* $L_2 \\rightarrow L_2 - 4 L_1$\n",
    "* $L_3 \\rightarrow L_3 + 22 L_1$"
   ]
  },
  {
   "cell_type": "code",
   "execution_count": 6,
   "metadata": {},
   "outputs": [
    {
     "data": {
      "text/plain": [
       "array([[  0. ,   1.6,   1. ,   0.8,   0.2,   0. ,  24. ],\n",
       "       [  0. ,  -1.4,   0. ,  -1.2,  -0.8,   1. , 104. ],\n",
       "       [  1. ,  15.2,   0. ,  -0.4,   4.4,   0. , 528. ]])"
      ]
     },
     "execution_count": 6,
     "metadata": {},
     "output_type": "execute_result"
    }
   ],
   "source": [
    "for i in range(M.shape[0]):\n",
    "    if(i != pivot_row):\n",
    "        M[i] -= M[i][pivot_col] * M[pivot_row]\n",
    "M"
   ]
  },
  {
   "cell_type": "markdown",
   "metadata": {},
   "source": [
    "### **Iteração 2**\n",
    "\n",
    "Agora, a coluna pivô é a coluna de $x_3$. Efetuamos a divisão *element-wise* entre a coluna $b$ e a coluna $x_3$ para obter a linha pivô:"
   ]
  },
  {
   "cell_type": "code",
   "execution_count": 7,
   "metadata": {},
   "outputs": [
    {
     "data": {
      "text/plain": [
       "array([ 30.   , -86.667])"
      ]
     },
     "execution_count": 7,
     "metadata": {},
     "output_type": "execute_result"
    }
   ],
   "source": [
    "pivot_col = 3\n",
    "div_pivot_b_cols = (M.T[b_col] / M.T[pivot_col])[:-1]\n",
    "div_pivot_b_cols"
   ]
  },
  {
   "cell_type": "code",
   "execution_count": 8,
   "metadata": {},
   "outputs": [
    {
     "data": {
      "text/plain": [
       "np.int64(0)"
      ]
     },
     "execution_count": 8,
     "metadata": {},
     "output_type": "execute_result"
    }
   ],
   "source": [
    "pivot_row = np.argmin(np.abs(div_pivot_b_cols))\n",
    "pivot_row"
   ]
  },
  {
   "cell_type": "markdown",
   "metadata": {},
   "source": [
    "A linha pivô agora é $L_1$. Fazemos, então, a substituição $L_1 \\rightarrow -\\frac{L_1}{0.8}$."
   ]
  },
  {
   "cell_type": "code",
   "execution_count": 9,
   "metadata": {},
   "outputs": [
    {
     "data": {
      "text/plain": [
       "array([[  0.  ,   2.  ,   1.25,   1.  ,   0.25,   0.  ,  30.  ],\n",
       "       [  0.  ,  -1.4 ,   0.  ,  -1.2 ,  -0.8 ,   1.  , 104.  ],\n",
       "       [  1.  ,  15.2 ,   0.  ,  -0.4 ,   4.4 ,   0.  , 528.  ]])"
      ]
     },
     "execution_count": 9,
     "metadata": {},
     "output_type": "execute_result"
    }
   ],
   "source": [
    "M[pivot_row] /= M[pivot_row][pivot_col]\n",
    "M"
   ]
  },
  {
   "cell_type": "markdown",
   "metadata": {},
   "source": [
    "Para zerar os outros elementos da coluna $x_3$:\n",
    "\n",
    "* $L_2 \\rightarrow L_2 + 1.2 L_1$\n",
    "* $L_3 \\rightarrow L_3 + 0.4 L_1$"
   ]
  },
  {
   "cell_type": "code",
   "execution_count": 10,
   "metadata": {},
   "outputs": [
    {
     "data": {
      "text/plain": [
       "array([[  0.  ,   2.  ,   1.25,   1.  ,   0.25,   0.  ,  30.  ],\n",
       "       [  0.  ,   1.  ,   1.5 ,   0.  ,  -0.5 ,   1.  , 140.  ],\n",
       "       [  1.  ,  16.  ,   0.5 ,   0.  ,   4.5 ,   0.  , 540.  ]])"
      ]
     },
     "execution_count": 10,
     "metadata": {},
     "output_type": "execute_result"
    }
   ],
   "source": [
    "for i in range(M.shape[0]):\n",
    "    if(i != pivot_row):\n",
    "        M[i] -= M[i][pivot_col] * M[pivot_row]\n",
    "M"
   ]
  },
  {
   "cell_type": "markdown",
   "metadata": {},
   "source": [
    "Repare que a linha de coeficientes de custo agora tem apenas valores positivos! Isto significa que chegamos ao final das iterações."
   ]
  },
  {
   "cell_type": "markdown",
   "metadata": {},
   "source": [
    "### **Resultado final**\n",
    "\n",
    "**Lucro da companhia**\n",
    "\n",
    "Podemos ver, pelo resultado final, que a variável original que faz parte da base é apenas $x_3$, e que a resposta final é:\n",
    "\n",
    "* $x_1 = 0$;\n",
    "* $x_2 = 0$;\n",
    "* $x_3 = 30$.\n",
    "\n",
    "O ponto máximo da função é $Z = 540$.\n",
    "\n",
    "Isto significa que devem ser produzidos 30 litros de Combustível C, e nenhuma quantidade dos outros combustíveis, o que levará a um lucro de $\\textrm{R\\$ } 540$.\n",
    "\n",
    "**Folga de matéria prima**\n",
    "\n",
    "Substituindo os valores de $\\boldsymbol{x}$ nas restrições:\n",
    "\n",
    "\\begin{equation*}\n",
    "\\begin{aligned}\n",
    "8 \\cdot 0 + 5 \\cdot 0 + 4 \\cdot 30 = 120 \\\\\n",
    "5 \\cdot 0 + 4 \\cdot 0 + 2 \\cdot 30 = 60\n",
    "\\end{aligned}\n",
    "\\end{equation*}\n",
    "\n",
    "Pelos resultados, concluímos que:\n",
    "\n",
    "* Não sobra extrato mineral;\n",
    "* Sobram $200 - 60 = 140$ litros de solvente."
   ]
  },
  {
   "cell_type": "markdown",
   "metadata": {},
   "source": [
    "## **3. Solução por algoritmo**"
   ]
  },
  {
   "cell_type": "code",
   "execution_count": 15,
   "metadata": {},
   "outputs": [],
   "source": [
    "A = np.array([\n",
    "    [8, 5, 4],\n",
    "    [5, 4, 2]\n",
    "])\n",
    "\n",
    "b = [120, 200]\n",
    "\n",
    "coef = np.array([20, 22, 18]) * (-1)\n",
    "\n",
    "var_bounds = np.array([[0, 0, 0], [np.inf, np.inf, np.inf]]).T\n",
    "\n",
    "res = linprog(coef, A_ub=A, b_ub=b, bounds=var_bounds, method='highs')"
   ]
  },
  {
   "cell_type": "code",
   "execution_count": 16,
   "metadata": {},
   "outputs": [
    {
     "name": "stdout",
     "output_type": "stream",
     "text": [
      "Valor máximo da função objetivo: 540.0\n",
      "x1 = 0.0, x2 = 0.0, x3 = 30.0\n"
     ]
    }
   ],
   "source": [
    "print(f\"Valor máximo da função objetivo: {-res.fun}\")\n",
    "print(f\"x1 = {res.x[0]}, x2 = {res.x[1]}, x3 = {res.x[2]}\")"
   ]
  }
 ],
 "metadata": {
  "kernelspec": {
   "display_name": "base",
   "language": "python",
   "name": "python3"
  },
  "language_info": {
   "codemirror_mode": {
    "name": "ipython",
    "version": 3
   },
   "file_extension": ".py",
   "mimetype": "text/x-python",
   "name": "python",
   "nbconvert_exporter": "python",
   "pygments_lexer": "ipython3",
   "version": "3.12.2"
  }
 },
 "nbformat": 4,
 "nbformat_minor": 2
}
