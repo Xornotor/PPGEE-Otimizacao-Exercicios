{
 "cells": [
  {
   "cell_type": "markdown",
   "metadata": {},
   "source": [
    "<a target=\"_blank\" href=\"https://colab.research.google.com/github/Xornotor/PPGEE-Otimizacao-Exercicios/blob/main/Lista-01-A/Q8.ipynb\">\n",
    "  <img src=\"https://colab.research.google.com/assets/colab-badge.svg\" alt=\"Open In Colab\"/>\n",
    "</a>"
   ]
  },
  {
   "cell_type": "markdown",
   "metadata": {},
   "source": [
    "# **Lista de Exercícios 01-A | Questão 8**\n",
    "\n",
    "**UFBA** | PPGEE0016 - Otimização\n",
    "\n",
    "**Aluno:** André Paiva Conrado Rodrigues"
   ]
  },
  {
   "cell_type": "code",
   "execution_count": 1,
   "metadata": {},
   "outputs": [],
   "source": [
    "# Importação de dependências\n",
    "import numpy as np\n",
    "from scipy.optimize import linprog"
   ]
  },
  {
   "cell_type": "markdown",
   "metadata": {},
   "source": [
    "## **1. Problema de Otimização**\n",
    "\n",
    "Considerando:\n",
    "\n",
    "*   $x_1$ A quantidade do Combustível A a ser fabricada;\n",
    "*   $x_2$ A quantidade do Combustível B a ser fabricada;\n",
    "*   $x_3$ A quantidade do Combustível C a ser fabricada;\n",
    "\n",
    "Temos o seguinte problema de otimização:\n",
    "\n",
    "\\begin{equation*}\n",
    "\\begin{aligned}\n",
    "\\text{Maximizar} \\\\\n",
    "&& Z = 20x_1 + 22x_2 + 18x_3 \\\\\n",
    "\\text{Sujeito a} \\\\\n",
    "c_{1}: && 8x_1 + 5x_2 + 4x_3 \\leq 120 \\\\\n",
    "c_{2}: && 5x_1 + 4x_2 + 2x_3 \\leq 200 \\\\\n",
    "&& x_1, x_2, x_3 \\geq 0 \\\\\n",
    "\\end{aligned}\n",
    "\\end{equation*}"
   ]
  },
  {
   "cell_type": "markdown",
   "metadata": {},
   "source": [
    "## **2. Solução manual por Simplex**"
   ]
  },
  {
   "cell_type": "markdown",
   "metadata": {},
   "source": []
  },
  {
   "cell_type": "markdown",
   "metadata": {},
   "source": [
    "## **3. Solução por algoritmo**"
   ]
  },
  {
   "cell_type": "code",
   "execution_count": null,
   "metadata": {},
   "outputs": [],
   "source": [
    "A = np.array([\n",
    "    [8, 5, 4],\n",
    "    [5, 4, 2]\n",
    "])\n",
    "\n",
    "b = [120, 200]\n",
    "\n",
    "coef = np.array([20, 22, 18]) * (-1)\n",
    "\n",
    "var_bounds = np.array([[0, 0, 0], [np.inf, np.inf, np.inf]]).T\n",
    "\n",
    "res = linprog(coef, A_ub=A, b_ub=b, bounds=var_bounds, method='highs')\n",
    "res"
   ]
  },
  {
   "cell_type": "markdown",
   "metadata": {},
   "source": [
    "## **4. Discussões sobre os resultados (lucro, folga de matéria-prima)**"
   ]
  }
 ],
 "metadata": {
  "kernelspec": {
   "display_name": "base",
   "language": "python",
   "name": "python3"
  },
  "language_info": {
   "codemirror_mode": {
    "name": "ipython",
    "version": 3
   },
   "file_extension": ".py",
   "mimetype": "text/x-python",
   "name": "python",
   "nbconvert_exporter": "python",
   "pygments_lexer": "ipython3",
   "version": "3.12.2"
  }
 },
 "nbformat": 4,
 "nbformat_minor": 2
}
