{
 "cells": [
  {
   "cell_type": "markdown",
   "metadata": {},
   "source": [
    "<a target=\"_blank\" href=\"https://colab.research.google.com/github/Xornotor/PPGEE-Otimizacao-Exercicios/blob/main/Lista-01-A/Q4.ipynb\">\n",
    "  <img src=\"https://colab.research.google.com/assets/colab-badge.svg\" alt=\"Open In Colab\"/>\n",
    "</a>"
   ]
  },
  {
   "cell_type": "markdown",
   "metadata": {},
   "source": [
    "# **Lista de Exercícios 01-A | Questão 4**\n",
    "\n",
    "**UFBA** | PPGEE0016 - Otimização\n",
    "\n",
    "**Aluno:** André Paiva Conrado Rodrigues"
   ]
  },
  {
   "cell_type": "code",
   "execution_count": 3,
   "metadata": {},
   "outputs": [],
   "source": [
    "# Importação de dependências\n",
    "import numpy as np\n",
    "from scipy.optimize import linprog"
   ]
  },
  {
   "cell_type": "markdown",
   "metadata": {},
   "source": [
    "## **1. Problema de Otimização**\n",
    "\n",
    "Considerando:\n",
    "\n",
    "*   $x_1$ A quantidade de Produto I produzida;\n",
    "*   $x_2$ A quantidade de Produto II produzida;\n",
    "*   $x_3$ A quantidade de Produto III produzida;\n",
    "*   $x_4$ A quantidade de Produto IV produzida;\n",
    "*   $x_5$ A quantidade de Produto V produzida;\n",
    "\n",
    "Temos o seguinte problema de otimização:\n",
    "\n",
    "\\begin{equation*}\n",
    "\\begin{aligned}\n",
    "\\text{Maximizar} \\\\\n",
    "&& Z = 25x_1 + 15x_2 + 12x_3 + 17x_4 + 19x_5\\\\\n",
    "\\text{Sujeito a} \\\\\n",
    "c_{1}: && 5x_1 + 9x_2 + 5x_4 + 4x_5 \\leq 110 \\\\\n",
    "c_{2}: && 3x_1 + 6x_2 + 4x_3 + 9x_4 + 6x_5 \\leq 280 \\\\\n",
    "c_{3}: && 4x_1 + 9x_2 + 5x_3 + 7x_4 + 8x_5 \\leq 190 \\\\\n",
    "c_{4}: && 4x_2 + 3x_3 + 7x_4 + 6x_5 \\leq 150 \\\\\n",
    "c_{5}: && 4x_1 + 5x_2 + 7x_4 + 8x_5 \\leq 170 \\\\\n",
    "c_{6}: && x_1 \\leq 70 \\\\\n",
    "c_{7}: && x_2 \\leq 110 \\\\\n",
    "c_{8}: && x_3 \\leq 80 \\\\\n",
    "c_{9}: && x_4 \\leq 40 \\\\\n",
    "c_{10}: && x_5 \\leq 30 \\\\\n",
    "&& x_1, x_2, x_3, x_4, x_5 \\geq 0 \\\\\n",
    "\\end{aligned}\n",
    "\\end{equation*}"
   ]
  },
  {
   "cell_type": "markdown",
   "metadata": {},
   "source": [
    "## **2. Solução manual por Simplex**"
   ]
  },
  {
   "cell_type": "markdown",
   "metadata": {},
   "source": []
  },
  {
   "cell_type": "markdown",
   "metadata": {},
   "source": [
    "## **3. Solução por algoritmo**"
   ]
  },
  {
   "cell_type": "code",
   "execution_count": null,
   "metadata": {},
   "outputs": [],
   "source": [
    "A = np.array([\n",
    "    [5, 9, 0, 5, 4],  # M1\n",
    "    [3, 6, 4, 9, 6],  # M2\n",
    "    [4, 9, 5, 7, 8],  # M3\n",
    "    [0, 4, 3, 7, 6],  # MO1\n",
    "    [4, 5, 0, 7, 8]   # MO2\n",
    "])\n",
    "\n",
    "b = [110, 280, 190, 150, 170]\n",
    "\n",
    "coef = np.array([25, 15, 12, 17, 19]) * (-1)\n",
    "\n",
    "var_bounds = np.array([[0, 0, 0, 0, 0], [70, 110, 80, 40, 30]]).T\n",
    "\n",
    "res = linprog(coef, A_ub=A, b_ub=b, bounds=var_bounds, method='highs')\n",
    "res"
   ]
  }
 ],
 "metadata": {
  "kernelspec": {
   "display_name": "base",
   "language": "python",
   "name": "python3"
  },
  "language_info": {
   "codemirror_mode": {
    "name": "ipython",
    "version": 3
   },
   "file_extension": ".py",
   "mimetype": "text/x-python",
   "name": "python",
   "nbconvert_exporter": "python",
   "pygments_lexer": "ipython3",
   "version": "3.12.2"
  }
 },
 "nbformat": 4,
 "nbformat_minor": 2
}
