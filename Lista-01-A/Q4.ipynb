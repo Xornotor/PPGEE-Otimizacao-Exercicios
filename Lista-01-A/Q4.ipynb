{
 "cells": [
  {
   "cell_type": "markdown",
   "metadata": {},
   "source": [
    "<a target=\"_blank\" href=\"https://colab.research.google.com/github/Xornotor/PPGEE-Otimizacao-Exercicios/blob/main/Lista-01-A/Q4.ipynb\">\n",
    "  <img src=\"https://colab.research.google.com/assets/colab-badge.svg\" alt=\"Open In Colab\"/>\n",
    "</a>"
   ]
  },
  {
   "cell_type": "markdown",
   "metadata": {},
   "source": [
    "# **Lista de Exercícios 01-A | Questão 4**\n",
    "\n",
    "**UFBA** | PPGEE0016 - Otimização\n",
    "\n",
    "**Aluno:** André Paiva Conrado Rodrigues"
   ]
  },
  {
   "cell_type": "code",
   "execution_count": 1,
   "metadata": {},
   "outputs": [],
   "source": [
    "# Importação de dependências e configurações de pretty-printing\n",
    "import numpy as np\n",
    "from scipy.optimize import linprog\n",
    "np.set_printoptions(precision=3, suppress=True, linewidth=150)"
   ]
  },
  {
   "cell_type": "markdown",
   "metadata": {},
   "source": [
    "## **1. Problema de Otimização**\n",
    "\n",
    "Considerando:\n",
    "\n",
    "*   $x_1$ A quantidade de Produto I produzida;\n",
    "*   $x_2$ A quantidade de Produto II produzida;\n",
    "*   $x_3$ A quantidade de Produto III produzida;\n",
    "*   $x_4$ A quantidade de Produto IV produzida;\n",
    "*   $x_5$ A quantidade de Produto V produzida;\n",
    "\n",
    "Temos o seguinte problema de otimização:\n",
    "\n",
    "\\begin{equation*}\n",
    "\\begin{aligned}\n",
    "\\text{Maximizar} \\\\\n",
    "&& Z = 25x_1 + 15x_2 + 12x_3 + 17x_4 + 19x_5\\\\\n",
    "\\text{Sujeito a} \\\\\n",
    "c_{1}: && 5x_1 + 9x_2 + 5x_4 + 4x_5 \\leq 110 \\\\\n",
    "c_{2}: && 3x_1 + 6x_2 + 4x_3 + 9x_4 + 6x_5 \\leq 280 \\\\\n",
    "c_{3}: && 4x_1 + 9x_2 + 5x_3 + 7x_4 + 8x_5 \\leq 190 \\\\\n",
    "c_{4}: && 4x_2 + 3x_3 + 7x_4 + 6x_5 \\leq 150 \\\\\n",
    "c_{5}: && 4x_1 + 5x_2 + 7x_4 + 8x_5 \\leq 170 \\\\\n",
    "c_{6}: && x_1 \\leq 70 \\\\\n",
    "c_{7}: && x_2 \\leq 110 \\\\\n",
    "c_{8}: && x_3 \\leq 80 \\\\\n",
    "c_{9}: && x_4 \\leq 40 \\\\\n",
    "c_{10}: && x_5 \\leq 30 \\\\\n",
    "&& x_1, x_2, x_3, x_4, x_5 \\geq 0 \\\\\n",
    "\\end{aligned}\n",
    "\\end{equation*}"
   ]
  },
  {
   "cell_type": "markdown",
   "metadata": {},
   "source": [
    "## **2. Solução manual por Simplex**"
   ]
  },
  {
   "cell_type": "markdown",
   "metadata": {},
   "source": [
    "Primeiramente, é necessário colocar a função objetivo e as restrições na forma padrão, adicionando variáveis de folga para eliminar as desigualdades. Deste modo, o problema é reformulado da seguinte maneira:"
   ]
  },
  {
   "cell_type": "markdown",
   "metadata": {},
   "source": [
    "\\begin{equation*}\n",
    "\\begin{aligned}\n",
    "\\text{Maximizar} \\\\\n",
    "&& Z - 25x_1 - 15x_2 - 12x_3 - 17x_4 - 19x_5 = 0\\\\\n",
    "\\text{Sujeito a} \\\\\n",
    "c_{1}: && 5x_1 + 9x_2 + 5x_4 + 4x_5 + x_6 = 110 \\\\\n",
    "c_{2}: && 3x_1 + 6x_2 + 4x_3 + 9x_4 + 6x_5 + x_7 = 280 \\\\\n",
    "c_{3}: && 4x_1 + 9x_2 + 5x_3 + 7x_4 + 8x_5 + x_8 = 190 \\\\\n",
    "c_{4}: && 4x_2 + 3x_3 + 7x_4 + 6x_5 + x_9 = 150 \\\\\n",
    "c_{5}: && 4x_1 + 5x_2 + 7x_4 + 8x_5 + x_{10} = 170 \\\\\n",
    "c_{6}: && x_1 + x_{11} = 70 \\\\\n",
    "c_{7}: && x_2 + x_{12} = 110 \\\\\n",
    "c_{8}: && x_3 + x_{13} = 80 \\\\\n",
    "c_{9}: && x_4 + x_{14} = 40 \\\\\n",
    "c_{10}: && x_5 + x_{15} = 30 \\\\\n",
    "&& x_k \\geq 0, k \\in {1, 2, 3, 4, 5, 6, 7, 8, 9, 10, 11, 12, 13, 14, 15} \\\\\n",
    "\\end{aligned}\n",
    "\\end{equation*}"
   ]
  },
  {
   "cell_type": "markdown",
   "metadata": {},
   "source": [
    "Montando a matriz $\\boldsymbol{M}$ para o algoritmo Simplex:\n",
    "\n",
    "| ////                  | $Z$ | $x_1$ | $x_2$ | $x_3$ | $x_4$ | $x_5$ | $x_6$ | $x_7$ | $x_8$ | $x_9$ | $x_{10}$ | $x_{11}$ | $x_{12}$ | $x_{13}$ | $x_{14}$ | $x_{15}$ | $b$ |\n",
    "|-----------------------|-----|-------|-------|-------|-------|-------|-------|-------|-------|-------|----------|----------|----------|----------|----------|----------|-----|\n",
    "| $\\boldsymbol{L_1}$    | 0   | 5     | 9     | 0     | 5     | 4     | 1     | 0     | 0     | 0     | 0        | 0        | 0        | 0        | 0        | 0        | 110 |\n",
    "| $\\boldsymbol{L_2}$    | 0   | 3     | 6     | 4     | 9     | 6     | 0     | 1     | 0     | 0     | 0        | 0        | 0        | 0        | 0        | 0        | 280 |\n",
    "| $\\boldsymbol{L_3}$    | 0   | 4     | 9     | 5     | 7     | 8     | 0     | 0     | 1     | 0     | 0        | 0        | 0        | 0        | 0        | 0        | 190 |\n",
    "| $\\boldsymbol{L_4}$    | 0   | 0     | 4     | 3     | 7     | 6     | 0     | 0     | 0     | 1     | 0        | 0        | 0        | 0        | 0        | 0        | 150 |\n",
    "| $\\boldsymbol{L_5}$    | 0   | 4     | 5     | 0     | 7     | 8     | 0     | 0     | 0     | 0     | 1        | 0        | 0        | 0        | 0        | 0        | 170 |\n",
    "| $\\boldsymbol{L_6}$    | 0   | 1     | 0     | 0     | 0     | 0     | 0     | 0     | 0     | 0     | 0        | 1        | 0        | 0        | 0        | 0        | 70  |\n",
    "| $\\boldsymbol{L_7}$    | 0   | 0     | 1     | 0     | 0     | 0     | 0     | 0     | 0     | 0     | 0        | 0        | 1        | 0        | 0        | 0        | 110 |\n",
    "| $\\boldsymbol{L_8}$    | 0   | 0     | 0     | 1     | 0     | 0     | 0     | 0     | 0     | 0     | 0        | 0        | 0        | 1        | 0        | 0        | 80  |\n",
    "| $\\boldsymbol{L_9}$    | 0   | 0     | 0     | 0     | 1     | 0     | 0     | 0     | 0     | 0     | 0        | 0        | 0        | 0        | 1        | 0        | 40  |\n",
    "| $\\boldsymbol{L_{10}}$ | 0   | 0     | 0     | 0     | 0     | 1     | 0     | 0     | 0     | 0     | 0        | 0        | 0        | 0        | 0        | 1        | 30  |\n",
    "| $\\boldsymbol{L_{11}}$ | 1   | -25   | -15   | -12   | -17   | -19   | 0     | 0     | 0     | 0     | 0        | 0        | 0        | 0        | 0        | 0        | 0   |"
   ]
  },
  {
   "cell_type": "code",
   "execution_count": 2,
   "metadata": {},
   "outputs": [],
   "source": [
    "M = np.array([\n",
    "    [0,   5,    9,    0,    5,    4, 1, 0, 0, 0, 0, 0, 0, 0, 0, 0, 110],\n",
    "    [0,   3,    6,    4,    9,    6, 0, 1, 0, 0, 0, 0, 0, 0, 0, 0, 280],\n",
    "    [0,   4,    9,    5,    7,    8, 0, 0, 1, 0, 0, 0, 0, 0, 0, 0, 190],\n",
    "    [0,   0,    4,    3,    7,    6, 0, 0, 0, 1, 0, 0, 0, 0, 0, 0, 150],\n",
    "    [0,   4,    5,    0,    7,    8, 0, 0, 0, 0, 1, 0, 0, 0, 0, 0, 170],\n",
    "    [0,   1,    0,    0,    0,    0, 0, 0, 0, 0, 0, 1, 0, 0, 0, 0, 70 ],\n",
    "    [0,   0,    1,    0,    0,    0, 0, 0, 0, 0, 0, 0, 1, 0, 0, 0, 110],\n",
    "    [0,   0,    0,    1,    0,    0, 0, 0, 0, 0, 0, 0, 0, 1, 0, 0, 80 ],\n",
    "    [0,   0,    0,    0,    1,    0, 0, 0, 0, 0, 0, 0, 0, 0, 1, 0, 40 ],\n",
    "    [0,   0,    0,    0,    0,    1, 0, 0, 0, 0, 0, 0, 0, 0, 0, 1, 30 ],\n",
    "    [1, -25,  -15,  -12,  -17,  -19, 1, 0, 0, 0, 0, 0, 0, 0, 0, 0, 0  ],\n",
    "], dtype=np.float64)"
   ]
  },
  {
   "cell_type": "markdown",
   "metadata": {},
   "source": [
    "### **Iteração 1**\n",
    "\n",
    "Iniciamos selecionando a coluna de $x_1$ como **coluna pivô** por possuir custo com menor valor (-25). A partir disto, efetuamos a divisão *element-wise* dos elementos da coluna $b$ pelos elementos da coluna $x_1$, e selecionando o menor valor, obtemos a **linha pivô**."
   ]
  },
  {
   "cell_type": "code",
   "execution_count": 3,
   "metadata": {},
   "outputs": [
    {
     "name": "stderr",
     "output_type": "stream",
     "text": [
      "/tmp/ipykernel_162088/1690705366.py:3: RuntimeWarning: divide by zero encountered in divide\n",
      "  div_pivot_b_cols = (M.T[b_col] / M.T[pivot_col])[:-1]\n"
     ]
    },
    {
     "data": {
      "text/plain": [
       "array([22.   , 93.333, 47.5  ,    inf, 42.5  , 70.   ,    inf,    inf,    inf,    inf])"
      ]
     },
     "execution_count": 3,
     "metadata": {},
     "output_type": "execute_result"
    }
   ],
   "source": [
    "b_col = 16\n",
    "pivot_col = 1\n",
    "div_pivot_b_cols = (M.T[b_col] / M.T[pivot_col])[:-1]\n",
    "div_pivot_b_cols"
   ]
  },
  {
   "cell_type": "code",
   "execution_count": 4,
   "metadata": {},
   "outputs": [
    {
     "data": {
      "text/plain": [
       "np.int64(0)"
      ]
     },
     "execution_count": 4,
     "metadata": {},
     "output_type": "execute_result"
    }
   ],
   "source": [
    "pivot_row = np.argmin(div_pivot_b_cols)\n",
    "pivot_row"
   ]
  },
  {
   "cell_type": "markdown",
   "metadata": {},
   "source": [
    "Logo, a linha pivô é $L_1$. Fazemos, então, a substituição $L_1 \\rightarrow \\frac{L_1}{5}$."
   ]
  },
  {
   "cell_type": "code",
   "execution_count": 5,
   "metadata": {},
   "outputs": [
    {
     "data": {
      "text/plain": [
       "array([[  0. ,   1. ,   1.8,   0. ,   1. ,   0.8,   0.2,   0. ,   0. ,   0. ,   0. ,   0. ,   0. ,   0. ,   0. ,   0. ,  22. ],\n",
       "       [  0. ,   3. ,   6. ,   4. ,   9. ,   6. ,   0. ,   1. ,   0. ,   0. ,   0. ,   0. ,   0. ,   0. ,   0. ,   0. , 280. ],\n",
       "       [  0. ,   4. ,   9. ,   5. ,   7. ,   8. ,   0. ,   0. ,   1. ,   0. ,   0. ,   0. ,   0. ,   0. ,   0. ,   0. , 190. ],\n",
       "       [  0. ,   0. ,   4. ,   3. ,   7. ,   6. ,   0. ,   0. ,   0. ,   1. ,   0. ,   0. ,   0. ,   0. ,   0. ,   0. , 150. ],\n",
       "       [  0. ,   4. ,   5. ,   0. ,   7. ,   8. ,   0. ,   0. ,   0. ,   0. ,   1. ,   0. ,   0. ,   0. ,   0. ,   0. , 170. ],\n",
       "       [  0. ,   1. ,   0. ,   0. ,   0. ,   0. ,   0. ,   0. ,   0. ,   0. ,   0. ,   1. ,   0. ,   0. ,   0. ,   0. ,  70. ],\n",
       "       [  0. ,   0. ,   1. ,   0. ,   0. ,   0. ,   0. ,   0. ,   0. ,   0. ,   0. ,   0. ,   1. ,   0. ,   0. ,   0. , 110. ],\n",
       "       [  0. ,   0. ,   0. ,   1. ,   0. ,   0. ,   0. ,   0. ,   0. ,   0. ,   0. ,   0. ,   0. ,   1. ,   0. ,   0. ,  80. ],\n",
       "       [  0. ,   0. ,   0. ,   0. ,   1. ,   0. ,   0. ,   0. ,   0. ,   0. ,   0. ,   0. ,   0. ,   0. ,   1. ,   0. ,  40. ],\n",
       "       [  0. ,   0. ,   0. ,   0. ,   0. ,   1. ,   0. ,   0. ,   0. ,   0. ,   0. ,   0. ,   0. ,   0. ,   0. ,   1. ,  30. ],\n",
       "       [  1. , -25. , -15. , -12. , -17. , -19. ,   1. ,   0. ,   0. ,   0. ,   0. ,   0. ,   0. ,   0. ,   0. ,   0. ,   0. ]])"
      ]
     },
     "execution_count": 5,
     "metadata": {},
     "output_type": "execute_result"
    }
   ],
   "source": [
    "M[pivot_row] /= M[pivot_row][pivot_col]\n",
    "M"
   ]
  },
  {
   "cell_type": "markdown",
   "metadata": {},
   "source": [
    "A ideia agora é zerar todos os outros elementos da coluna $x_1$. Para tanto, fazemos as seguintes substituições:\n",
    "\n",
    "* $L_2 \\rightarrow L_2 - 3 L_1$\n",
    "* $L_3 \\rightarrow L_3 - 4 L_1$\n",
    "* $L_5 \\rightarrow L_5 - 4 L_1$\n",
    "* $L_6 \\rightarrow L_6 - L_1$\n",
    "* $L_{11} \\rightarrow L_{11} + 25L_1$"
   ]
  },
  {
   "cell_type": "code",
   "execution_count": 6,
   "metadata": {},
   "outputs": [
    {
     "data": {
      "text/plain": [
       "array([[  0. ,   1. ,   1.8,   0. ,   1. ,   0.8,   0.2,   0. ,   0. ,   0. ,   0. ,   0. ,   0. ,   0. ,   0. ,   0. ,  22. ],\n",
       "       [  0. ,   0. ,   0.6,   4. ,   6. ,   3.6,  -0.6,   1. ,   0. ,   0. ,   0. ,   0. ,   0. ,   0. ,   0. ,   0. , 214. ],\n",
       "       [  0. ,   0. ,   1.8,   5. ,   3. ,   4.8,  -0.8,   0. ,   1. ,   0. ,   0. ,   0. ,   0. ,   0. ,   0. ,   0. , 102. ],\n",
       "       [  0. ,   0. ,   4. ,   3. ,   7. ,   6. ,   0. ,   0. ,   0. ,   1. ,   0. ,   0. ,   0. ,   0. ,   0. ,   0. , 150. ],\n",
       "       [  0. ,   0. ,  -2.2,   0. ,   3. ,   4.8,  -0.8,   0. ,   0. ,   0. ,   1. ,   0. ,   0. ,   0. ,   0. ,   0. ,  82. ],\n",
       "       [  0. ,   0. ,  -1.8,   0. ,  -1. ,  -0.8,  -0.2,   0. ,   0. ,   0. ,   0. ,   1. ,   0. ,   0. ,   0. ,   0. ,  48. ],\n",
       "       [  0. ,   0. ,   1. ,   0. ,   0. ,   0. ,   0. ,   0. ,   0. ,   0. ,   0. ,   0. ,   1. ,   0. ,   0. ,   0. , 110. ],\n",
       "       [  0. ,   0. ,   0. ,   1. ,   0. ,   0. ,   0. ,   0. ,   0. ,   0. ,   0. ,   0. ,   0. ,   1. ,   0. ,   0. ,  80. ],\n",
       "       [  0. ,   0. ,   0. ,   0. ,   1. ,   0. ,   0. ,   0. ,   0. ,   0. ,   0. ,   0. ,   0. ,   0. ,   1. ,   0. ,  40. ],\n",
       "       [  0. ,   0. ,   0. ,   0. ,   0. ,   1. ,   0. ,   0. ,   0. ,   0. ,   0. ,   0. ,   0. ,   0. ,   0. ,   1. ,  30. ],\n",
       "       [  1. ,   0. ,  30. , -12. ,   8. ,   1. ,   6. ,   0. ,   0. ,   0. ,   0. ,   0. ,   0. ,   0. ,   0. ,   0. , 550. ]])"
      ]
     },
     "execution_count": 6,
     "metadata": {},
     "output_type": "execute_result"
    }
   ],
   "source": [
    "for i in range(M.shape[0]):\n",
    "    if(i != pivot_row):\n",
    "        M[i] -= M[i][pivot_col] * M[pivot_row]\n",
    "M"
   ]
  },
  {
   "cell_type": "markdown",
   "metadata": {},
   "source": [
    "### **Iteração 2**\n",
    "\n",
    "Agora, a coluna pivô é a coluna de $x_3$. Efetuamos a divisão *element-wise* entre a coluna $b$ e a coluna $x_3$ para obter a linha pivô:"
   ]
  },
  {
   "cell_type": "code",
   "execution_count": 7,
   "metadata": {},
   "outputs": [
    {
     "name": "stderr",
     "output_type": "stream",
     "text": [
      "/tmp/ipykernel_162088/1043914124.py:2: RuntimeWarning: divide by zero encountered in divide\n",
      "  div_pivot_b_cols = (M.T[b_col] / M.T[pivot_col])[:-1]\n"
     ]
    },
    {
     "data": {
      "text/plain": [
       "array([ inf, 53.5, 20.4, 50. ,  inf,  inf,  inf, 80. ,  inf,  inf])"
      ]
     },
     "execution_count": 7,
     "metadata": {},
     "output_type": "execute_result"
    }
   ],
   "source": [
    "pivot_col = 3\n",
    "div_pivot_b_cols = (M.T[b_col] / M.T[pivot_col])[:-1]\n",
    "div_pivot_b_cols"
   ]
  },
  {
   "cell_type": "code",
   "execution_count": 8,
   "metadata": {},
   "outputs": [
    {
     "data": {
      "text/plain": [
       "np.int64(2)"
      ]
     },
     "execution_count": 8,
     "metadata": {},
     "output_type": "execute_result"
    }
   ],
   "source": [
    "pivot_row = np.argmin(div_pivot_b_cols)\n",
    "pivot_row"
   ]
  },
  {
   "cell_type": "markdown",
   "metadata": {},
   "source": [
    "A linha pivô agora é $L_3$. Fazemos, então, a substituição $L_3 \\rightarrow \\frac{L_3}{5}$."
   ]
  },
  {
   "cell_type": "code",
   "execution_count": 9,
   "metadata": {},
   "outputs": [
    {
     "data": {
      "text/plain": [
       "array([[  0.  ,   1.  ,   1.8 ,   0.  ,   1.  ,   0.8 ,   0.2 ,   0.  ,   0.  ,   0.  ,   0.  ,   0.  ,   0.  ,   0.  ,   0.  ,   0.  ,  22.  ],\n",
       "       [  0.  ,   0.  ,   0.6 ,   4.  ,   6.  ,   3.6 ,  -0.6 ,   1.  ,   0.  ,   0.  ,   0.  ,   0.  ,   0.  ,   0.  ,   0.  ,   0.  , 214.  ],\n",
       "       [  0.  ,   0.  ,   0.36,   1.  ,   0.6 ,   0.96,  -0.16,   0.  ,   0.2 ,   0.  ,   0.  ,   0.  ,   0.  ,   0.  ,   0.  ,   0.  ,  20.4 ],\n",
       "       [  0.  ,   0.  ,   4.  ,   3.  ,   7.  ,   6.  ,   0.  ,   0.  ,   0.  ,   1.  ,   0.  ,   0.  ,   0.  ,   0.  ,   0.  ,   0.  , 150.  ],\n",
       "       [  0.  ,   0.  ,  -2.2 ,   0.  ,   3.  ,   4.8 ,  -0.8 ,   0.  ,   0.  ,   0.  ,   1.  ,   0.  ,   0.  ,   0.  ,   0.  ,   0.  ,  82.  ],\n",
       "       [  0.  ,   0.  ,  -1.8 ,   0.  ,  -1.  ,  -0.8 ,  -0.2 ,   0.  ,   0.  ,   0.  ,   0.  ,   1.  ,   0.  ,   0.  ,   0.  ,   0.  ,  48.  ],\n",
       "       [  0.  ,   0.  ,   1.  ,   0.  ,   0.  ,   0.  ,   0.  ,   0.  ,   0.  ,   0.  ,   0.  ,   0.  ,   1.  ,   0.  ,   0.  ,   0.  , 110.  ],\n",
       "       [  0.  ,   0.  ,   0.  ,   1.  ,   0.  ,   0.  ,   0.  ,   0.  ,   0.  ,   0.  ,   0.  ,   0.  ,   0.  ,   1.  ,   0.  ,   0.  ,  80.  ],\n",
       "       [  0.  ,   0.  ,   0.  ,   0.  ,   1.  ,   0.  ,   0.  ,   0.  ,   0.  ,   0.  ,   0.  ,   0.  ,   0.  ,   0.  ,   1.  ,   0.  ,  40.  ],\n",
       "       [  0.  ,   0.  ,   0.  ,   0.  ,   0.  ,   1.  ,   0.  ,   0.  ,   0.  ,   0.  ,   0.  ,   0.  ,   0.  ,   0.  ,   0.  ,   1.  ,  30.  ],\n",
       "       [  1.  ,   0.  ,  30.  , -12.  ,   8.  ,   1.  ,   6.  ,   0.  ,   0.  ,   0.  ,   0.  ,   0.  ,   0.  ,   0.  ,   0.  ,   0.  , 550.  ]])"
      ]
     },
     "execution_count": 9,
     "metadata": {},
     "output_type": "execute_result"
    }
   ],
   "source": [
    "M[pivot_row] /= M[pivot_row][pivot_col]\n",
    "M"
   ]
  },
  {
   "cell_type": "markdown",
   "metadata": {},
   "source": [
    "Para zerar os outros elementos da coluna $x_3$:\n",
    "\n",
    "* $L_2 \\rightarrow L_2 - 4 L_3$\n",
    "* $L_4 \\rightarrow L_4 - 3 L_3$\n",
    "* $L_8 \\rightarrow L_8 - L_3$\n",
    "* $L_{11} \\rightarrow L_{11} + 12 L_3$"
   ]
  },
  {
   "cell_type": "code",
   "execution_count": 10,
   "metadata": {},
   "outputs": [
    {
     "data": {
      "text/plain": [
       "array([[  0.  ,   1.  ,   1.8 ,   0.  ,   1.  ,   0.8 ,   0.2 ,   0.  ,   0.  ,   0.  ,   0.  ,   0.  ,   0.  ,   0.  ,   0.  ,   0.  ,  22.  ],\n",
       "       [  0.  ,   0.  ,  -0.84,   0.  ,   3.6 ,  -0.24,   0.04,   1.  ,  -0.8 ,   0.  ,   0.  ,   0.  ,   0.  ,   0.  ,   0.  ,   0.  , 132.4 ],\n",
       "       [  0.  ,   0.  ,   0.36,   1.  ,   0.6 ,   0.96,  -0.16,   0.  ,   0.2 ,   0.  ,   0.  ,   0.  ,   0.  ,   0.  ,   0.  ,   0.  ,  20.4 ],\n",
       "       [  0.  ,   0.  ,   2.92,   0.  ,   5.2 ,   3.12,   0.48,   0.  ,  -0.6 ,   1.  ,   0.  ,   0.  ,   0.  ,   0.  ,   0.  ,   0.  ,  88.8 ],\n",
       "       [  0.  ,   0.  ,  -2.2 ,   0.  ,   3.  ,   4.8 ,  -0.8 ,   0.  ,   0.  ,   0.  ,   1.  ,   0.  ,   0.  ,   0.  ,   0.  ,   0.  ,  82.  ],\n",
       "       [  0.  ,   0.  ,  -1.8 ,   0.  ,  -1.  ,  -0.8 ,  -0.2 ,   0.  ,   0.  ,   0.  ,   0.  ,   1.  ,   0.  ,   0.  ,   0.  ,   0.  ,  48.  ],\n",
       "       [  0.  ,   0.  ,   1.  ,   0.  ,   0.  ,   0.  ,   0.  ,   0.  ,   0.  ,   0.  ,   0.  ,   0.  ,   1.  ,   0.  ,   0.  ,   0.  , 110.  ],\n",
       "       [  0.  ,   0.  ,  -0.36,   0.  ,  -0.6 ,  -0.96,   0.16,   0.  ,  -0.2 ,   0.  ,   0.  ,   0.  ,   0.  ,   1.  ,   0.  ,   0.  ,  59.6 ],\n",
       "       [  0.  ,   0.  ,   0.  ,   0.  ,   1.  ,   0.  ,   0.  ,   0.  ,   0.  ,   0.  ,   0.  ,   0.  ,   0.  ,   0.  ,   1.  ,   0.  ,  40.  ],\n",
       "       [  0.  ,   0.  ,   0.  ,   0.  ,   0.  ,   1.  ,   0.  ,   0.  ,   0.  ,   0.  ,   0.  ,   0.  ,   0.  ,   0.  ,   0.  ,   1.  ,  30.  ],\n",
       "       [  1.  ,   0.  ,  34.32,   0.  ,  15.2 ,  12.52,   4.08,   0.  ,   2.4 ,   0.  ,   0.  ,   0.  ,   0.  ,   0.  ,   0.  ,   0.  , 794.8 ]])"
      ]
     },
     "execution_count": 10,
     "metadata": {},
     "output_type": "execute_result"
    }
   ],
   "source": [
    "for i in range(M.shape[0]):\n",
    "    if(i != pivot_row):\n",
    "        M[i] -= M[i][pivot_col] * M[pivot_row]\n",
    "M"
   ]
  },
  {
   "cell_type": "markdown",
   "metadata": {},
   "source": [
    "Repare que a linha de coeficientes de custo agora tem apenas valores positivos! Isto significa que chegamos ao final das iterações."
   ]
  },
  {
   "cell_type": "markdown",
   "metadata": {},
   "source": [
    "### **Resultado final**\n",
    "\n",
    "Podemos ver, pelo resultado final, que as variáveis originais que fazem parte da base são $x_1$ e $x_3$, e que a resposta retornada pelo algoritmo simplex é:\n",
    "\n",
    "* $x_1 = 22$;\n",
    "* $x_2 = 0$;\n",
    "* $x_3 = 20.4$;\n",
    "* $x_4 = 0$;\n",
    "* $x_4 = 0$;\n",
    "\n",
    "E com estes valores, o lucro é maximizado para o valor de $Z = 794.8$.\n",
    "\n",
    "No entanto, não é possível produzir $20.4$ produtos; apenas quantidades inteiras. Logo, fazemos um arredondamento ($x_3 = 20$), o que retorna um resultado $Z = 790$."
   ]
  },
  {
   "cell_type": "markdown",
   "metadata": {},
   "source": [
    "## **3. Comprovação da solução por algoritmo**"
   ]
  },
  {
   "cell_type": "code",
   "execution_count": 11,
   "metadata": {},
   "outputs": [],
   "source": [
    "A = np.array([\n",
    "    [5, 9, 0, 5, 4],  # M1\n",
    "    [3, 6, 4, 9, 6],  # M2\n",
    "    [4, 9, 5, 7, 8],  # M3\n",
    "    [0, 4, 3, 7, 6],  # MO1\n",
    "    [4, 5, 0, 7, 8]   # MO2\n",
    "])\n",
    "\n",
    "b = [110, 280, 190, 150, 170]\n",
    "\n",
    "coef = np.array([25, 15, 12, 17, 19]) * (-1)\n",
    "\n",
    "var_bounds = np.array([[0, 0, 0, 0, 0], [70, 110, 80, 40, 30]]).T\n",
    "\n",
    "res = linprog(coef, A_ub=A, b_ub=b, bounds=var_bounds, method='highs')"
   ]
  },
  {
   "cell_type": "code",
   "execution_count": 12,
   "metadata": {},
   "outputs": [
    {
     "name": "stdout",
     "output_type": "stream",
     "text": [
      "Valor máximo da função objetivo: 794.8\n",
      "x1 = 22.0, x2 = 0.0, x3 = 20.4, x4 = 0.0, x5 = 0.0\n"
     ]
    }
   ],
   "source": [
    "print(f\"Valor máximo da função objetivo: {-res.fun}\")\n",
    "print(f\"x1 = {res.x[0]}, x2 = {res.x[1]}, x3 = {res.x[2]}, x4 = {res.x[3]}, x5 = {res.x[4]}\")"
   ]
  }
 ],
 "metadata": {
  "kernelspec": {
   "display_name": "base",
   "language": "python",
   "name": "python3"
  },
  "language_info": {
   "codemirror_mode": {
    "name": "ipython",
    "version": 3
   },
   "file_extension": ".py",
   "mimetype": "text/x-python",
   "name": "python",
   "nbconvert_exporter": "python",
   "pygments_lexer": "ipython3",
   "version": "3.12.2"
  }
 },
 "nbformat": 4,
 "nbformat_minor": 2
}
