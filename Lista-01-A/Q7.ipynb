{
 "cells": [
  {
   "cell_type": "markdown",
   "metadata": {},
   "source": [
    "<a target=\"_blank\" href=\"https://colab.research.google.com/github/Xornotor/PPGEE-Otimizacao-Exercicios/blob/main/Lista-01-A/Q7.ipynb\">\n",
    "  <img src=\"https://colab.research.google.com/assets/colab-badge.svg\" alt=\"Open In Colab\"/>\n",
    "</a>"
   ]
  },
  {
   "cell_type": "markdown",
   "metadata": {},
   "source": [
    "# **Lista de Exercícios 01-A | Questão 7**\n",
    "\n",
    "**UFBA** | PPGEE0016 - Otimização\n",
    "\n",
    "**Aluno:** André Paiva Conrado Rodrigues"
   ]
  },
  {
   "cell_type": "code",
   "execution_count": 1,
   "metadata": {},
   "outputs": [],
   "source": [
    "# Importação de dependências\n",
    "import numpy as np\n",
    "from scipy.optimize import linprog"
   ]
  },
  {
   "cell_type": "markdown",
   "metadata": {},
   "source": [
    "## **1. Problema de Otimização**\n",
    "\n",
    "Considerando:\n",
    "\n",
    "*   $x_1$ A quantidade de carne de boi a ser carregada;\n",
    "*   $x_2$ A quantidade de grãos a ser carregada;\n",
    "\n",
    "Temos o seguinte problema de otimização:\n",
    "\n",
    "\\begin{equation*}\n",
    "\\begin{aligned}\n",
    "\\text{Maximizar} \\\\\n",
    "&& Z = 0.35x_1 + 0.12x_2 \\\\\n",
    "\\text{Sujeito a} \\\\\n",
    "c_{1}: && x_1 + x_2 \\leq 160000 \\\\\n",
    "c_{2}: && 0.2x_1 + 0.4x_2 \\leq 70000 \\\\\n",
    "c_{3}: && x_1 \\leq 85000 \\\\\n",
    "c_{4}: && x_2 \\leq 100000 \\\\\n",
    "&& x_1, x_2 \\geq 0 \\\\\n",
    "\\end{aligned}\n",
    "\\end{equation*}"
   ]
  },
  {
   "cell_type": "markdown",
   "metadata": {},
   "source": [
    "## **2. Solução manual por Simplex**"
   ]
  },
  {
   "cell_type": "markdown",
   "metadata": {},
   "source": []
  },
  {
   "cell_type": "markdown",
   "metadata": {},
   "source": [
    "## **3. Solução por algoritmo**"
   ]
  },
  {
   "cell_type": "code",
   "execution_count": null,
   "metadata": {},
   "outputs": [],
   "source": [
    "A = np.array([[1, 1], [0.2, 0.4]])\n",
    "\n",
    "b = [160000, 70000]\n",
    "\n",
    "coef = np.array([0.35, 0.12]) * (-1)\n",
    "\n",
    "var_bounds = np.array([[0, 0], [85000, 100000]]).T\n",
    "\n",
    "res = linprog(coef, A_ub=A, b_ub=b, bounds=var_bounds, method='highs')\n",
    "res"
   ]
  }
 ],
 "metadata": {
  "kernelspec": {
   "display_name": "base",
   "language": "python",
   "name": "python3"
  },
  "language_info": {
   "codemirror_mode": {
    "name": "ipython",
    "version": 3
   },
   "file_extension": ".py",
   "mimetype": "text/x-python",
   "name": "python",
   "nbconvert_exporter": "python",
   "pygments_lexer": "ipython3",
   "version": "3.12.2"
  }
 },
 "nbformat": 4,
 "nbformat_minor": 2
}
