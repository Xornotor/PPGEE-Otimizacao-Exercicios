{
 "cells": [
  {
   "cell_type": "markdown",
   "metadata": {},
   "source": [
    "<a target=\"_blank\" href=\"https://colab.research.google.com/github/Xornotor/PPGEE-Otimizacao-Exercicios/blob/main/Lista-01-A/Q7.ipynb\">\n",
    "  <img src=\"https://colab.research.google.com/assets/colab-badge.svg\" alt=\"Open In Colab\"/>\n",
    "</a>"
   ]
  },
  {
   "cell_type": "markdown",
   "metadata": {},
   "source": [
    "# **Lista de Exercícios 01-A | Questão 7**\n",
    "\n",
    "**UFBA** | PPGEE0016 - Otimização\n",
    "\n",
    "**Aluno:** André Paiva Conrado Rodrigues"
   ]
  },
  {
   "cell_type": "code",
   "execution_count": 1,
   "metadata": {},
   "outputs": [],
   "source": [
    "# Importação de dependências e configurações de pretty-printing\n",
    "import numpy as np\n",
    "from scipy.optimize import linprog\n",
    "np.set_printoptions(precision=3, suppress=True, linewidth=100)"
   ]
  },
  {
   "cell_type": "markdown",
   "metadata": {},
   "source": [
    "## **1. Problema de Otimização**\n",
    "\n",
    "Considerando:\n",
    "\n",
    "*   $x_1$ A quantidade de carne de boi a ser carregada;\n",
    "*   $x_2$ A quantidade de grãos a ser carregada;\n",
    "\n",
    "Temos o seguinte problema de otimização:\n",
    "\n",
    "\\begin{equation*}\n",
    "\\begin{aligned}\n",
    "\\text{Maximizar} \\\\\n",
    "&& Z = 0.35x_1 + 0.12x_2 \\\\\n",
    "\\text{Sujeito a} \\\\\n",
    "c_{1}: && x_1 + x_2 \\leq 160000 \\\\\n",
    "c_{2}: && 0.2x_1 + 0.4x_2 \\leq 70000 \\\\\n",
    "c_{3}: && x_1 \\leq 85000 \\\\\n",
    "c_{4}: && x_2 \\leq 100000 \\\\\n",
    "&& x_1, x_2 \\geq 0 \\\\\n",
    "\\end{aligned}\n",
    "\\end{equation*}"
   ]
  },
  {
   "cell_type": "markdown",
   "metadata": {},
   "source": [
    "## **2. Solução manual por Simplex**"
   ]
  },
  {
   "cell_type": "markdown",
   "metadata": {},
   "source": [
    "Primeiramente, é necessário colocar a função objetivo e as restrições na forma padrão, adicionando variáveis de folga para eliminar as desigualdades. Deste modo, o problema é reformulado da seguinte maneira:"
   ]
  },
  {
   "cell_type": "markdown",
   "metadata": {},
   "source": [
    "\\begin{equation*}\n",
    "\\begin{aligned}\n",
    "\\text{Maximizar} \\\\\n",
    "&& Z - 0.35x_1 - 0.12x_2 = 0 \\\\\n",
    "\\text{Sujeito a} \\\\\n",
    "c_{1}: && x_1 + x_2 + x_3 = 160000 \\\\\n",
    "c_{2}: && 0.2x_1 + 0.4x_2 + x_4 = 70000 \\\\\n",
    "c_{3}: && x_1 + x_5 = 85000 \\\\\n",
    "c_{4}: && x_2 + x_6 = 100000 \\\\\n",
    "&& x_1, x_2, x_3, x_4, x_5, x_6 \\geq 0 \\\\\n",
    "\\end{aligned}\n",
    "\\end{equation*}"
   ]
  },
  {
   "cell_type": "markdown",
   "metadata": {},
   "source": [
    "Montando a matriz $\\boldsymbol{M}$ para o algoritmo Simplex:\n",
    "\n",
    "|        ////        | $Z$ | $x_1$ | $x_2$ | $x_3$ | $x_4$ | $x_5$ | $x_6$ |  $b$   |\n",
    "|--------------------|-----|-------|-------|-------|-------|-------|-------|--------|\n",
    "| $\\boldsymbol{L_1}$ |  0  |   1   |   1   |   1   |   0   |   0   |   0   | 160000 |\n",
    "| $\\boldsymbol{L_2}$ |  0  |  0.2  |  0.4  |   0   |   1   |   0   |   0   |  70000 |\n",
    "| $\\boldsymbol{L_3}$ |  0  |   1   |   0   |   0   |   0   |   1   |   0   |  85000 |\n",
    "| $\\boldsymbol{L_4}$ |  0  |   0   |   1   |   0   |   0   |   0   |   1   | 100000 |\n",
    "| $\\boldsymbol{L_5}$ |  1  | -0.35 | -0.12 |   0   |   0   |   0   |   0   |   0    |"
   ]
  },
  {
   "cell_type": "code",
   "execution_count": 2,
   "metadata": {},
   "outputs": [],
   "source": [
    "M = np.array([\n",
    "    [0,  1,     1,     1,  0,  0,  0,  160000 ],\n",
    "    [0,  0.2,   0.4,   0,  1,  0,  0,  70000  ],\n",
    "    [0,  1,     0,     0,  0,  1,  0,  85000  ],\n",
    "    [0,  0,     1,     0,  0,  0,  1,  100000 ],\n",
    "    [1, -0.35, -0.12,  0,  0,  0,  0,  0      ]\n",
    "], dtype=np.float64)"
   ]
  },
  {
   "cell_type": "markdown",
   "metadata": {},
   "source": [
    "### **Iteração 1**\n",
    "\n",
    "Iniciamos selecionando a coluna de $x_1$ como **coluna pivô** por possuir custo com menor valor (-5). A partir disto, efetuamos a divisão *element-wise* dos elementos da coluna $b$ pelos elementos da coluna $x_1$, e selecionando o menor valor, obtemos a **linha pivô**."
   ]
  },
  {
   "cell_type": "code",
   "execution_count": 3,
   "metadata": {},
   "outputs": [
    {
     "name": "stderr",
     "output_type": "stream",
     "text": [
      "/tmp/ipykernel_149903/992770500.py:3: RuntimeWarning: divide by zero encountered in divide\n",
      "  div_pivot_b_cols = (M.T[b_col] / M.T[pivot_col])[:-1]\n"
     ]
    },
    {
     "data": {
      "text/plain": [
       "array([160000., 350000.,  85000.,     inf])"
      ]
     },
     "execution_count": 3,
     "metadata": {},
     "output_type": "execute_result"
    }
   ],
   "source": [
    "b_col = 7\n",
    "pivot_col = 1\n",
    "div_pivot_b_cols = (M.T[b_col] / M.T[pivot_col])[:-1]\n",
    "div_pivot_b_cols"
   ]
  },
  {
   "cell_type": "code",
   "execution_count": 4,
   "metadata": {},
   "outputs": [
    {
     "data": {
      "text/plain": [
       "np.int64(2)"
      ]
     },
     "execution_count": 4,
     "metadata": {},
     "output_type": "execute_result"
    }
   ],
   "source": [
    "pivot_row = np.argmin(div_pivot_b_cols)\n",
    "pivot_row"
   ]
  },
  {
   "cell_type": "markdown",
   "metadata": {},
   "source": [
    "Logo, a linha pivô é $L_3$. Não é necessário fazer nenhuma substituição, já que $M_{32} = 1$. A ideia agora é zerar todos os outros elementos da coluna $x_1$. Para tanto, fazemos as seguintes substituições:\n",
    "\n",
    "* $L_1 \\rightarrow L_1 - L_3$\n",
    "* $L_2 \\rightarrow L_2 - 0.2 L_3$\n",
    "* $L_5 \\rightarrow L_5 + 0.35 L_3$"
   ]
  },
  {
   "cell_type": "code",
   "execution_count": 5,
   "metadata": {},
   "outputs": [
    {
     "data": {
      "text/plain": [
       "array([[     0.  ,      0.  ,      1.  ,      1.  ,      0.  ,     -1.  ,      0.  ,  75000.  ],\n",
       "       [     0.  ,      0.  ,      0.4 ,      0.  ,      1.  ,     -0.2 ,      0.  ,  53000.  ],\n",
       "       [     0.  ,      1.  ,      0.  ,      0.  ,      0.  ,      1.  ,      0.  ,  85000.  ],\n",
       "       [     0.  ,      0.  ,      1.  ,      0.  ,      0.  ,      0.  ,      1.  , 100000.  ],\n",
       "       [     1.  ,      0.  ,     -0.12,      0.  ,      0.  ,      0.35,      0.  ,  29750.  ]])"
      ]
     },
     "execution_count": 5,
     "metadata": {},
     "output_type": "execute_result"
    }
   ],
   "source": [
    "for i in range(M.shape[0]):\n",
    "    if(i != pivot_row):\n",
    "        M[i] -= M[i][pivot_col] * M[pivot_row]\n",
    "M"
   ]
  },
  {
   "cell_type": "markdown",
   "metadata": {},
   "source": [
    "### **Iteração 2**\n",
    "\n",
    "Agora, a coluna pivô é a coluna de $x_2$. Efetuamos a divisão *element-wise* entre a coluna $b$ e a coluna $x_2$ para obter a linha pivô:"
   ]
  },
  {
   "cell_type": "code",
   "execution_count": 6,
   "metadata": {},
   "outputs": [
    {
     "name": "stderr",
     "output_type": "stream",
     "text": [
      "/tmp/ipykernel_149903/1391391574.py:2: RuntimeWarning: divide by zero encountered in divide\n",
      "  div_pivot_b_cols = (M.T[b_col] / M.T[pivot_col])[:-1]\n"
     ]
    },
    {
     "data": {
      "text/plain": [
       "array([ 75000., 132500.,     inf, 100000.])"
      ]
     },
     "execution_count": 6,
     "metadata": {},
     "output_type": "execute_result"
    }
   ],
   "source": [
    "pivot_col = 2\n",
    "div_pivot_b_cols = (M.T[b_col] / M.T[pivot_col])[:-1]\n",
    "div_pivot_b_cols"
   ]
  },
  {
   "cell_type": "code",
   "execution_count": 7,
   "metadata": {},
   "outputs": [
    {
     "data": {
      "text/plain": [
       "np.int64(0)"
      ]
     },
     "execution_count": 7,
     "metadata": {},
     "output_type": "execute_result"
    }
   ],
   "source": [
    "pivot_row = np.argmin(div_pivot_b_cols)\n",
    "pivot_row"
   ]
  },
  {
   "cell_type": "markdown",
   "metadata": {},
   "source": [
    "A linha pivô agora é $L_1$. Não é necessário fazer substituições, já que $M_{13} = 1$. Para zerar os outros elementos da coluna $x_2$:\n",
    "\n",
    "* $L_2 \\rightarrow L_2 - 0.4 L_1$\n",
    "* $L_4 \\rightarrow L_4 - L_1$\n",
    "* $L_5 \\rightarrow L_5 + 0.12 L_1$"
   ]
  },
  {
   "cell_type": "code",
   "execution_count": 8,
   "metadata": {},
   "outputs": [
    {
     "data": {
      "text/plain": [
       "array([[    0.  ,     0.  ,     1.  ,     1.  ,     0.  ,    -1.  ,     0.  , 75000.  ],\n",
       "       [    0.  ,     0.  ,     0.  ,    -0.4 ,     1.  ,     0.2 ,     0.  , 23000.  ],\n",
       "       [    0.  ,     1.  ,     0.  ,     0.  ,     0.  ,     1.  ,     0.  , 85000.  ],\n",
       "       [    0.  ,     0.  ,     0.  ,    -1.  ,     0.  ,     1.  ,     1.  , 25000.  ],\n",
       "       [    1.  ,     0.  ,     0.  ,     0.12,     0.  ,     0.23,     0.  , 38750.  ]])"
      ]
     },
     "execution_count": 8,
     "metadata": {},
     "output_type": "execute_result"
    }
   ],
   "source": [
    "for i in range(M.shape[0]):\n",
    "    if(i != pivot_row):\n",
    "        M[i] -= M[i][pivot_col] * M[pivot_row]\n",
    "M"
   ]
  },
  {
   "cell_type": "markdown",
   "metadata": {},
   "source": [
    "Repare que a linha de coeficientes de custo agora tem apenas valores positivos! Isto significa que chegamos ao final das iterações."
   ]
  },
  {
   "cell_type": "markdown",
   "metadata": {},
   "source": [
    "### **Resultado final**\n",
    "\n",
    "Podemos ver, pelo resultado final, que ambas as variáveis originais fazem parte da base, e que a resposta final é:\n",
    "\n",
    "* $x_1 = 85000$;\n",
    "* $x_2 = 75000$;\n",
    "\n",
    "O lucro máximo é de $\\textrm{R\\$ } 38750$."
   ]
  },
  {
   "cell_type": "markdown",
   "metadata": {},
   "source": [
    "## **3. Comprovação da solução por algoritmo**"
   ]
  },
  {
   "cell_type": "code",
   "execution_count": 9,
   "metadata": {},
   "outputs": [],
   "source": [
    "A = np.array([[1, 1], [0.2, 0.4]])\n",
    "\n",
    "b = [160000, 70000]\n",
    "\n",
    "coef = np.array([0.35, 0.12]) * (-1)\n",
    "\n",
    "var_bounds = np.array([[0, 0], [85000, 100000]]).T\n",
    "\n",
    "res = linprog(coef, A_ub=A, b_ub=b, bounds=var_bounds, method='highs')"
   ]
  },
  {
   "cell_type": "code",
   "execution_count": 10,
   "metadata": {},
   "outputs": [
    {
     "name": "stdout",
     "output_type": "stream",
     "text": [
      "Valor máximo da função objetivo: 38750.0\n",
      "x1 = 85000.0, x2 = 75000.0\n"
     ]
    }
   ],
   "source": [
    "print(f\"Valor máximo da função objetivo: {-res.fun}\")\n",
    "print(f\"x1 = {res.x[0]}, x2 = {res.x[1]}\")"
   ]
  }
 ],
 "metadata": {
  "kernelspec": {
   "display_name": "base",
   "language": "python",
   "name": "python3"
  },
  "language_info": {
   "codemirror_mode": {
    "name": "ipython",
    "version": 3
   },
   "file_extension": ".py",
   "mimetype": "text/x-python",
   "name": "python",
   "nbconvert_exporter": "python",
   "pygments_lexer": "ipython3",
   "version": "3.12.2"
  }
 },
 "nbformat": 4,
 "nbformat_minor": 2
}
