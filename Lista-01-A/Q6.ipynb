{
 "cells": [
  {
   "cell_type": "markdown",
   "metadata": {},
   "source": [
    "<a target=\"_blank\" href=\"https://colab.research.google.com/github/Xornotor/PPGEE-Otimizacao-Exercicios/blob/main/Lista-01-A/Q6.ipynb\">\n",
    "  <img src=\"https://colab.research.google.com/assets/colab-badge.svg\" alt=\"Open In Colab\"/>\n",
    "</a>"
   ]
  },
  {
   "cell_type": "markdown",
   "metadata": {},
   "source": [
    "# **Lista de Exercícios 01-A | Questão 6**\n",
    "\n",
    "**UFBA** | PPGEE0016 - Otimização\n",
    "\n",
    "**Aluno:** André Paiva Conrado Rodrigues"
   ]
  },
  {
   "cell_type": "code",
   "execution_count": 1,
   "metadata": {},
   "outputs": [],
   "source": [
    "# Importação de dependências\n",
    "import numpy as np\n",
    "from scipy.optimize import linprog"
   ]
  },
  {
   "cell_type": "markdown",
   "metadata": {},
   "source": [
    "## **1. Problema de Otimização**\n",
    "\n",
    "\\begin{equation*}\n",
    "\\begin{aligned}\n",
    "\\text{Maximizar} \\\\\n",
    "&& Z = 5x_1 + 4x_2 + 3x_3 \\\\\n",
    "\\text{Sujeito a} \\\\\n",
    "c_{1}: && 2x_1 + 3x_2 + x_3 \\leq 5 \\\\\n",
    "c_{2}: && 4x_1 + 2x_2 + 2x_3 \\leq 11 \\\\\n",
    "c_{3}: && 3x_1 + 2x_2 + 2x_3 \\leq 8 \\\\\n",
    "&& x_1, x_2, x_3 \\geq 0 \\\\\n",
    "\\end{aligned}\n",
    "\\end{equation*}"
   ]
  },
  {
   "cell_type": "markdown",
   "metadata": {},
   "source": [
    "## **2. Solução manual por Simplex**"
   ]
  },
  {
   "cell_type": "markdown",
   "metadata": {},
   "source": [
    "Primeiramente, é necessário colocar a função objetivo e as restrições na forma padrão, adicionando variáveis de folga para eliminar as desigualdades. Deste modo, o problema é reformulado da seguinte maneira:"
   ]
  },
  {
   "cell_type": "markdown",
   "metadata": {},
   "source": [
    "\\begin{equation*}\n",
    "\\begin{aligned}\n",
    "\\text{Maximizar} \\\\\n",
    "&& Z - 5x_1 - 4x_2 - 3x_3 = 0 \\\\\n",
    "\\text{Sujeito a} \\\\\n",
    "c_{1}: && 2x_1 + 3x_2 + x_3 + x_4 = 5 \\\\\n",
    "c_{2}: && 4x_1 + 2x_2 + 2x_3 + x_5 = 11 \\\\\n",
    "c_{3}: && 3x_1 + 2x_2 + 2x_3 + x_6 = 8 \\\\\n",
    "&& x_1, x_2, x_3, x_4, x_5, x_6 \\geq 0 \\\\\n",
    "\\end{aligned}\n",
    "\\end{equation*}"
   ]
  },
  {
   "cell_type": "markdown",
   "metadata": {},
   "source": [
    "Montando a matriz $\\boldsymbol{M}$ para o algoritmo Simplex:\n",
    "\n",
    "|        ////        | $Z$ | $x_1$ | $x_2$ | $x_3$ | $x_4$ | $x_5$ | $x_6$ |  $b$  |\n",
    "|--------------------|-----|-------|-------|-------|-------|-------|-------|-------|\n",
    "| $\\boldsymbol{L_1}$ |  0  |   2   |   3   |   1   |   1   |   0   |   0   |   5   |\n",
    "| $\\boldsymbol{L_2}$ |  0  |   4   |   2   |   2   |   0   |   1   |   0   |   11  |\n",
    "| $\\boldsymbol{L_3}$ |  0  |   3   |   2   |   2   |   0   |   0   |   1   |   8   |\n",
    "| $\\boldsymbol{L_4}$ |  1  |  -5   |  -4   |  -3   |   0   |   0   |   0   |   0   |"
   ]
  },
  {
   "cell_type": "code",
   "execution_count": 2,
   "metadata": {},
   "outputs": [],
   "source": [
    "M = np.array([\n",
    "    [0,  2,  3,  1,  1,  0,  0,  5 ],\n",
    "    [0,  4,  2,  2,  0,  1,  0,  11],\n",
    "    [0,  3,  2,  2,  0,  0,  1,  8 ],\n",
    "    [1, -5, -4, -3,  0,  0,  0,  0 ]\n",
    "], dtype=np.float64)"
   ]
  },
  {
   "cell_type": "markdown",
   "metadata": {},
   "source": [
    "### **Iteração 1**\n",
    "\n",
    "Iniciamos selecionando a coluna de $x_1$ como **coluna pivô** por possuir custo com menor valor (-5). A partir disto, efetuamos a divisão *element-wise* dos elementos da coluna $b$ pelos elementos da coluna $x_1$, e selecionando o menor valor, obtemos a **linha pivô**."
   ]
  },
  {
   "cell_type": "code",
   "execution_count": 3,
   "metadata": {},
   "outputs": [
    {
     "data": {
      "text/plain": [
       "array([2.5       , 2.75      , 2.66666667])"
      ]
     },
     "execution_count": 3,
     "metadata": {},
     "output_type": "execute_result"
    }
   ],
   "source": [
    "b_col = 7\n",
    "pivot_col = 1\n",
    "div_pivot_b_cols = (M.T[b_col] / M.T[pivot_col])[:-1]\n",
    "div_pivot_b_cols"
   ]
  },
  {
   "cell_type": "code",
   "execution_count": 4,
   "metadata": {},
   "outputs": [
    {
     "data": {
      "text/plain": [
       "np.int64(0)"
      ]
     },
     "execution_count": 4,
     "metadata": {},
     "output_type": "execute_result"
    }
   ],
   "source": [
    "pivot_row = np.argmin(div_pivot_b_cols)\n",
    "pivot_row"
   ]
  },
  {
   "cell_type": "markdown",
   "metadata": {},
   "source": [
    "Logo, a linha pivô é $L_1$. Fazemos, então, a substituição $L_1 \\rightarrow \\frac{L_1}{2}$."
   ]
  },
  {
   "cell_type": "code",
   "execution_count": 5,
   "metadata": {},
   "outputs": [
    {
     "data": {
      "text/plain": [
       "array([[ 0. ,  1. ,  1.5,  0.5,  0.5,  0. ,  0. ,  2.5],\n",
       "       [ 0. ,  4. ,  2. ,  2. ,  0. ,  1. ,  0. , 11. ],\n",
       "       [ 0. ,  3. ,  2. ,  2. ,  0. ,  0. ,  1. ,  8. ],\n",
       "       [ 1. , -5. , -4. , -3. ,  0. ,  0. ,  0. ,  0. ]])"
      ]
     },
     "execution_count": 5,
     "metadata": {},
     "output_type": "execute_result"
    }
   ],
   "source": [
    "M[pivot_row] /= M[pivot_row][pivot_col]\n",
    "M"
   ]
  },
  {
   "cell_type": "markdown",
   "metadata": {},
   "source": [
    "A ideia agora é zerar todos os outros elementos da coluna $x_1$. Para tanto, fazemos as seguintes substituições:\n",
    "\n",
    "* $L_2 \\rightarrow L_2 - 4 L_1$\n",
    "* $L_3 \\rightarrow L_3 - 3 L_1$\n",
    "* $L_4 \\rightarrow L_4 + 5 L_1$"
   ]
  },
  {
   "cell_type": "code",
   "execution_count": 6,
   "metadata": {},
   "outputs": [
    {
     "data": {
      "text/plain": [
       "array([[ 0. ,  1. ,  1.5,  0.5,  0.5,  0. ,  0. ,  2.5],\n",
       "       [ 0. ,  0. , -4. ,  0. , -2. ,  1. ,  0. ,  1. ],\n",
       "       [ 0. ,  0. , -2.5,  0.5, -1.5,  0. ,  1. ,  0.5],\n",
       "       [ 1. ,  0. ,  3.5, -0.5,  2.5,  0. ,  0. , 12.5]])"
      ]
     },
     "execution_count": 6,
     "metadata": {},
     "output_type": "execute_result"
    }
   ],
   "source": [
    "for i in range(M.shape[0]):\n",
    "    if(i != pivot_row):\n",
    "        M[i] -= M[i][pivot_col] * M[pivot_row]\n",
    "M"
   ]
  },
  {
   "cell_type": "markdown",
   "metadata": {},
   "source": [
    "### **Iteração 2**\n",
    "\n",
    "Agora, a coluna pivô é a coluna de $x_3$. Efetuamos a divisão *element-wise* entre a coluna $b$ e a coluna $x_3$ para obter a linha pivô:"
   ]
  },
  {
   "cell_type": "code",
   "execution_count": 7,
   "metadata": {},
   "outputs": [
    {
     "name": "stderr",
     "output_type": "stream",
     "text": [
      "/tmp/ipykernel_138353/1043914124.py:2: RuntimeWarning: divide by zero encountered in divide\n",
      "  div_pivot_b_cols = (M.T[b_col] / M.T[pivot_col])[:-1]\n"
     ]
    },
    {
     "data": {
      "text/plain": [
       "array([ 5., inf,  1.])"
      ]
     },
     "execution_count": 7,
     "metadata": {},
     "output_type": "execute_result"
    }
   ],
   "source": [
    "pivot_col = 3\n",
    "div_pivot_b_cols = (M.T[b_col] / M.T[pivot_col])[:-1]\n",
    "div_pivot_b_cols"
   ]
  },
  {
   "cell_type": "code",
   "execution_count": 8,
   "metadata": {},
   "outputs": [
    {
     "data": {
      "text/plain": [
       "np.int64(2)"
      ]
     },
     "execution_count": 8,
     "metadata": {},
     "output_type": "execute_result"
    }
   ],
   "source": [
    "pivot_row = np.argmin(div_pivot_b_cols)\n",
    "pivot_row"
   ]
  },
  {
   "cell_type": "markdown",
   "metadata": {},
   "source": [
    "A linha pivô agora é $L_3$. Fazemos, então, a substituição $L_3 \\rightarrow \\frac{L_3}{0.5}$."
   ]
  },
  {
   "cell_type": "code",
   "execution_count": 9,
   "metadata": {},
   "outputs": [
    {
     "data": {
      "text/plain": [
       "array([[ 0. ,  1. ,  1.5,  0.5,  0.5,  0. ,  0. ,  2.5],\n",
       "       [ 0. ,  0. , -4. ,  0. , -2. ,  1. ,  0. ,  1. ],\n",
       "       [ 0. ,  0. , -5. ,  1. , -3. ,  0. ,  2. ,  1. ],\n",
       "       [ 1. ,  0. ,  3.5, -0.5,  2.5,  0. ,  0. , 12.5]])"
      ]
     },
     "execution_count": 9,
     "metadata": {},
     "output_type": "execute_result"
    }
   ],
   "source": [
    "M[pivot_row] /= M[pivot_row][pivot_col]\n",
    "M"
   ]
  },
  {
   "cell_type": "markdown",
   "metadata": {},
   "source": [
    "Para zerar os outros elementos da coluna $x_3$:\n",
    "\n",
    "* $L_1 \\rightarrow L_1 - 0.5 L_3$\n",
    "* $L_4 \\rightarrow L_4 + 0.5 L_3$"
   ]
  },
  {
   "cell_type": "code",
   "execution_count": 10,
   "metadata": {},
   "outputs": [
    {
     "data": {
      "text/plain": [
       "array([[ 0.,  1.,  4.,  0.,  2.,  0., -1.,  2.],\n",
       "       [ 0.,  0., -4.,  0., -2.,  1.,  0.,  1.],\n",
       "       [ 0.,  0., -5.,  1., -3.,  0.,  2.,  1.],\n",
       "       [ 1.,  0.,  1.,  0.,  1.,  0.,  1., 13.]])"
      ]
     },
     "execution_count": 10,
     "metadata": {},
     "output_type": "execute_result"
    }
   ],
   "source": [
    "for i in range(M.shape[0]):\n",
    "    if(i != pivot_row):\n",
    "        M[i] -= M[i][pivot_col] * M[pivot_row]\n",
    "M"
   ]
  },
  {
   "cell_type": "markdown",
   "metadata": {},
   "source": [
    "Repare que a linha de coeficientes de custo agora tem apenas valores positivos! Isto significa que chegamos ao final das iterações."
   ]
  },
  {
   "cell_type": "markdown",
   "metadata": {},
   "source": [
    "### **Resultado final**\n",
    "\n",
    "Podemos ver, pelo resultado final, que as variáveis originais que fazem parte da base são $x_1$ e $x_3$, e que a resposta final é:\n",
    "\n",
    "* $x_1 = 2$;\n",
    "* $x_2 = 0$;\n",
    "* $x_3 = 1$.\n",
    "\n",
    "O ponto máximo da função é $Z = 13$."
   ]
  },
  {
   "cell_type": "markdown",
   "metadata": {},
   "source": [
    "## **3. Comprovação da solução por algoritmo**"
   ]
  },
  {
   "cell_type": "code",
   "execution_count": 11,
   "metadata": {},
   "outputs": [],
   "source": [
    "A = np.array([\n",
    "    [2, 3, 1],\n",
    "    [4, 2, 2],\n",
    "    [3, 2, 2]\n",
    "])\n",
    "\n",
    "b = [5, 11, 8]\n",
    "\n",
    "coef = np.array([5, 4, 3]) * (-1)\n",
    "\n",
    "var_bounds = np.array([[0, 0, 0], [np.inf, np.inf, np.inf]]).T\n",
    "\n",
    "res = linprog(coef, A_ub=A, b_ub=b, bounds=var_bounds, method='highs')"
   ]
  },
  {
   "cell_type": "code",
   "execution_count": 12,
   "metadata": {},
   "outputs": [
    {
     "name": "stdout",
     "output_type": "stream",
     "text": [
      "Valor máximo da função objetivo: 13.0\n",
      "x1 = 2.0, x2 = 0.0, x3 = 1.0\n"
     ]
    }
   ],
   "source": [
    "print(f\"Valor máximo da função objetivo: {-res.fun}\")\n",
    "print(f\"x1 = {res.x[0]}, x2 = {res.x[1]}, x3 = {res.x[2]}\")"
   ]
  }
 ],
 "metadata": {
  "kernelspec": {
   "display_name": "base",
   "language": "python",
   "name": "python3"
  },
  "language_info": {
   "codemirror_mode": {
    "name": "ipython",
    "version": 3
   },
   "file_extension": ".py",
   "mimetype": "text/x-python",
   "name": "python",
   "nbconvert_exporter": "python",
   "pygments_lexer": "ipython3",
   "version": "3.12.2"
  }
 },
 "nbformat": 4,
 "nbformat_minor": 2
}
